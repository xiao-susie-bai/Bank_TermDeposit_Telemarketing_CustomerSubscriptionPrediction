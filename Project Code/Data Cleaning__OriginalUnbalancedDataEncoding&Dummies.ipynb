{
 "cells": [
  {
   "cell_type": "code",
   "execution_count": null,
   "metadata": {},
   "outputs": [],
   "source": [
    "# To write a Python 2/3 compatible codebase, the first step is to add this line to the top of each module\n",
    "from __future__ import division, print_function, unicode_literals\n",
    "\n",
    "# Import necessary libraries.\n",
    "\n",
    "import numpy as np\n",
    "import pandas as pd\n",
    "import matplotlib.pyplot as plt\n",
    "%matplotlib inline\n",
    "import seaborn as sns\n",
    "\n",
    "from sklearn.preprocessing import LabelEncoder\n",
    "\n",
    "np.random.seed(42) # Ensure reproducability"
   ]
  },
  {
   "cell_type": "code",
   "execution_count": null,
   "metadata": {},
   "outputs": [],
   "source": [
    "################################################## Load Data ##################################################\n",
    "\n",
    "#WARNING: place csv file in same folder as this code for this to import the data\n",
    "\n",
    "df = pd.read_csv(\"/Users/baixiao/Desktop/bank-additional-full.csv\")\n",
    "\n",
    "print(list(df.columns.values))\n",
    "#print(df.isnull().values.any())"
   ]
  },
  {
   "cell_type": "code",
   "execution_count": null,
   "metadata": {},
   "outputs": [],
   "source": [
    "print(df.shape)\n",
    "df.head()"
   ]
  },
  {
   "cell_type": "code",
   "execution_count": null,
   "metadata": {},
   "outputs": [],
   "source": [
    "# Retrieving Attributes (X)\n",
    "X = df.iloc[:, 0:19]\n",
    "features = []               #list of feature names to use\n",
    "for col in X.columns:     \n",
    "    features.append(col)  \n",
    "print(\"X:\")\n",
    "print(X.head())\n",
    "    \n",
    "# Retriving Target Variable (y)\n",
    "y = df.iloc[:,19]     # grab target column\n",
    "print(\"y:\")\n",
    "print(y.head())"
   ]
  },
  {
   "cell_type": "code",
   "execution_count": null,
   "metadata": {},
   "outputs": [],
   "source": [
    "# categorical and numeric feature lists\n",
    "numeric =['age' , 'campaign', 'pdays', 'previous', 'emp.var.rate', 'cons.price.idx', 'cons.conf.idx', 'euribor3m', 'nr.employed' ]\n",
    "categorical = ['job', 'marital', 'education', 'default', 'housing', 'loan', 'contact', 'month', 'day_of_week', 'poutcome']"
   ]
  },
  {
   "cell_type": "code",
   "execution_count": null,
   "metadata": {},
   "outputs": [],
   "source": [
    "#replacing the YES and NO with 1 and 0 into binomial column\n",
    "y[y == 'yes'] = 1\n",
    "y[y == 'no'] = 0 \n",
    "classifications = ['1', '0']\n",
    "\n",
    "print(y)"
   ]
  },
  {
   "cell_type": "code",
   "execution_count": null,
   "metadata": {},
   "outputs": [],
   "source": [
    "#remove \"default\" column:\n",
    "if 'default' in X:\n",
    "    X = X.drop(['default'], axis=1)\n",
    "\n",
    "print(\"New X:\")\n",
    "print(X.shape)          #Now 18 indicators left\n",
    "print(X.head())"
   ]
  },
  {
   "cell_type": "code",
   "execution_count": null,
   "metadata": {},
   "outputs": [],
   "source": [
    "#try removing any row where there is 'unknown' in columns\n",
    "indices = X[(X['job']=='unknown') | (X['marital']=='unknown') | (X['education']=='unknown') | (X['housing']=='unknown') | (X['loan']=='unknown')].index\n",
    "print(indices)        #2943 observations would be removed (7.15% of original data)"
   ]
  },
  {
   "cell_type": "code",
   "execution_count": null,
   "metadata": {},
   "outputs": [],
   "source": [
    "X = X.drop(index=indices)        #drop 'unknown' observations(from \"index\")\n",
    "#print(type(X))\n",
    "print(\"New X:\")\n",
    "print(X.shape)         #Now: 38245 observations left (92.85% amount of original data left, which is ok)\n",
    "print(X.head())\n",
    "print()\n",
    "\n",
    "y = y.drop(index=indices)\n",
    "print(\"New y:\")\n",
    "print(y.shape)\n",
    "print(y.head())"
   ]
  },
  {
   "cell_type": "markdown",
   "metadata": {},
   "source": [
    "##### ENCODING All Categorical Variables (\"string\" format into numeric categorical variables) -- using LabelEncoder (not dummies variables here yet)"
   ]
  },
  {
   "cell_type": "code",
   "execution_count": null,
   "metadata": {},
   "outputs": [],
   "source": [
    "print(\"Categories for 'job' now:\", X['job'].unique())\n",
    "print(\"Number of Categories for 'job' now:\", len(X['job'].unique()))\n",
    "\n",
    "lab_encoder = LabelEncoder()\n",
    "job_encoded = lab_encoder.fit_transform(X['job'])\n",
    "print(\"\\nCorresponding Encodings Display:\")\n",
    "print(job_encoded[:50])\n",
    "print(lab_encoder.inverse_transform(job_encoded[:50]))\n",
    "X['job_encoded'] = job_encoded\n",
    "#Observation: encoding: '0': 'admin.'; '1': 'blue=collar'; '2': 'entrepreneur'; '3': 'housemaid'; '4': 'management'; \n",
    "# '5': 'retired'; 6': 'self-employed'; '7': 'services'; '8': 'student'; '9': 'technician'; '10': 'unemployed' "
   ]
  },
  {
   "cell_type": "code",
   "execution_count": null,
   "metadata": {},
   "outputs": [],
   "source": [
    "print(\"Categories for 'marital' now:\", X['marital'].unique())\n",
    "print(\"Number of Categories for 'marital' now:\", len(X['marital'].unique()))\n",
    "\n",
    "lab_encoder = LabelEncoder()\n",
    "marital_encoded = lab_encoder.fit_transform(X['marital'])\n",
    "print(\"\\nCorresponding Encodings Display:\")\n",
    "print(marital_encoded[:20])\n",
    "print(lab_encoder.inverse_transform(marital_encoded[:20]))\n",
    "X['marital_encoded'] = marital_encoded\n",
    "#Observation: encoding: '0': 'divorced'; '1': 'married'; '2': 'single'"
   ]
  },
  {
   "cell_type": "code",
   "execution_count": null,
   "metadata": {},
   "outputs": [],
   "source": [
    "print(\"Categories for 'education' now:\", X['education'].unique())\n",
    "print(\"Number of Categories for 'education' now:\", len(X['education'].unique()))\n",
    "\n",
    "lab_encoder = LabelEncoder()\n",
    "education_encoded = lab_encoder.fit_transform(X['education'])\n",
    "print(\"\\nCorresponding Encodings Display:\")\n",
    "print(education_encoded[:30])\n",
    "print(lab_encoder.inverse_transform(education_encoded[:30]))\n",
    "X['education_encoded'] = education_encoded\n",
    "#Observation: encoding: '0': 'basic.4y'; '1': 'basic.6y'; '2': 'basic.9y'; '3': 'high.school'; '4': 'illiterate'; 5': 'professional.course'; '6': 'university.degree'"
   ]
  },
  {
   "cell_type": "code",
   "execution_count": null,
   "metadata": {},
   "outputs": [],
   "source": [
    "print(\"Categories for 'housing' now:\", X['housing'].unique())\n",
    "print(\"Number of Categories for 'education' now:\", len(X['housing'].unique()))\n",
    "\n",
    "lab_encoder = LabelEncoder()\n",
    "housing_encoded = lab_encoder.fit_transform(X['housing'])\n",
    "print(\"\\nCorresponding Encodings Display:\")\n",
    "print(housing_encoded[:30])\n",
    "print(lab_encoder.inverse_transform(housing_encoded[:30]))\n",
    "X['housing_encoded'] = housing_encoded\n",
    "#Observation: Binary variable \"housing_encoded\": '0': 'no'; '1': 'yes'"
   ]
  },
  {
   "cell_type": "code",
   "execution_count": null,
   "metadata": {},
   "outputs": [],
   "source": [
    "print(\"Categories for 'loan' now:\", X['loan'].unique())\n",
    "print(\"Number of Categories for 'loan' now:\", len(X['loan'].unique()))\n",
    "\n",
    "lab_encoder = LabelEncoder()\n",
    "loan_encoded = lab_encoder.fit_transform(X['loan'])\n",
    "print(\"\\nCorresponding Encodings Display:\")\n",
    "print(loan_encoded[:30])\n",
    "print(lab_encoder.inverse_transform(loan_encoded[:30]))\n",
    "X['loan_encoded'] = loan_encoded\n",
    "#Observation: Binary variable \"loan_encoded\": '0': 'no'; '1': 'yes'"
   ]
  },
  {
   "cell_type": "code",
   "execution_count": null,
   "metadata": {},
   "outputs": [],
   "source": [
    "print(\"Categories for 'contact' now:\", X['contact'].unique())\n",
    "print(\"Number of Categories for 'contact' now:\", len(X['contact'].unique()))\n",
    "\n",
    "lab_encoder = LabelEncoder()\n",
    "contact_encoded = lab_encoder.fit_transform(X['contact'])\n",
    "print(\"\\nCorresponding Encodings Display:\")\n",
    "print(contact_encoded[:10])\n",
    "print(lab_encoder.inverse_transform(contact_encoded[:10]))\n",
    "X['contact_encoded'] = contact_encoded\n",
    "#Observation: encoding: '0': 'cellular'; '1': 'telephone'"
   ]
  },
  {
   "cell_type": "code",
   "execution_count": null,
   "metadata": {},
   "outputs": [],
   "source": [
    "print(\"Categories for 'month' now:\", X['month'].unique())\n",
    "print(\"Number of Categories for 'month' now:\", len(X['month'].unique()))\n",
    "\n",
    "lab_encoder = LabelEncoder()\n",
    "month_encoded = lab_encoder.fit_transform(X['month'])\n",
    "print(\"\\nCorresponding Encodings Display:\")\n",
    "print(month_encoded[:10])\n",
    "print(lab_encoder.inverse_transform(month_encoded[:10]))\n",
    "X['month_encoded'] = month_encoded\n",
    "#Observation: encoding: '0': 'apr'; '1': 'aug'; '2': 'dec'; '3': 'jul'; '4': 'jun'; '5': 'mar'; '6': 'may'; '7': 'nov'; '8': 'oct'; '9': 'sep'"
   ]
  },
  {
   "cell_type": "code",
   "execution_count": null,
   "metadata": {},
   "outputs": [],
   "source": [
    "print(\"Categories for 'day_of_week' now:\", X['day_of_week'].unique())\n",
    "print(\"Number of Categories for 'day_of_week' now:\", len(X['day_of_week'].unique()))\n",
    "\n",
    "lab_encoder = LabelEncoder()\n",
    "dayofweek_encoded = lab_encoder.fit_transform(X['day_of_week'])\n",
    "print(\"\\nCorresponding Encodings Display:\")\n",
    "print(dayofweek_encoded[:10])\n",
    "print(lab_encoder.inverse_transform(dayofweek_encoded[:10]))\n",
    "X['dayofweek_encoded'] = dayofweek_encoded\n",
    "#Observation: encoding: '0': 'fri'; '1': 'mon'; '2': 'thu'; '3': 'tue'; '4': 'wed'"
   ]
  },
  {
   "cell_type": "code",
   "execution_count": null,
   "metadata": {},
   "outputs": [],
   "source": [
    "print(\"Categories for 'poutcome' now:\", X['poutcome'].unique())\n",
    "print(\"Number of Categories for 'poutcome' now:\", len(X['poutcome'].unique()))\n",
    "\n",
    "lab_encoder = LabelEncoder()\n",
    "poutcome_encoded = lab_encoder.fit_transform(X['poutcome'])\n",
    "print(\"\\nCorresponding Encodings Display:\")\n",
    "print(poutcome_encoded[:10])\n",
    "print(lab_encoder.inverse_transform(poutcome_encoded[:10]))\n",
    "X['poutcome_encoded'] = poutcome_encoded\n",
    "#Observation: encoding: '0': 'failure'; '1': 'nonexistent'; '2': 'success'"
   ]
  },
  {
   "cell_type": "code",
   "execution_count": null,
   "metadata": {},
   "outputs": [],
   "source": [
    "X.head()"
   ]
  },
  {
   "cell_type": "code",
   "execution_count": null,
   "metadata": {},
   "outputs": [],
   "source": [
    "#re-retrieve the X variables (using the encoded categorical variables instead of in their string format)\n",
    "X_encoded = X[['age', 'campaign', 'pdays', 'previous', 'emp.var.rate', 'cons.price.idx', 'cons.conf.idx', 'euribor3m', 'nr.employed', \n",
    "      'job_encoded', 'marital_encoded', 'education_encoded', 'housing_encoded', 'loan_encoded',\n",
    "     'contact_encoded', 'month_encoded', \"dayofweek_encoded\", \"poutcome_encoded\"]]\n",
    "print(X_encoded.shape)\n",
    "X_encoded.head()"
   ]
  },
  {
   "cell_type": "code",
   "execution_count": null,
   "metadata": {},
   "outputs": [],
   "source": [
    "print(X_encoded.shape)\n",
    "print(y.shape)\n",
    "print(y.head())"
   ]
  },
  {
   "cell_type": "code",
   "execution_count": null,
   "metadata": {},
   "outputs": [],
   "source": [
    "#change \"999\" in 'pdays' into \"-1\" (avoid unnecessary skewness while remaining the same meaning)\n",
    "X_encoded.loc[X_encoded['pdays']==999, 'pdays'] = -1\n",
    "X_encoded.head()\n",
    "#X_encoded.shape"
   ]
  },
  {
   "cell_type": "code",
   "execution_count": null,
   "metadata": {},
   "outputs": [],
   "source": [
    "X_encoded.to_csv(\"/Users/baixiao/Desktop/X_encoded.csv\", index=False)\n",
    "y.to_csv(\"/Users/baixiao/Desktop/y.csv\", index=False, header=True)"
   ]
  },
  {
   "cell_type": "markdown",
   "metadata": {},
   "source": [
    "product:\n",
    "-\"X_encoded.csv\"\n",
    "-\"y.csv\""
   ]
  },
  {
   "cell_type": "markdown",
   "metadata": {},
   "source": [
    "#### Create dummies for original 'unbalanced' data"
   ]
  },
  {
   "cell_type": "code",
   "execution_count": null,
   "metadata": {},
   "outputs": [],
   "source": [
    "# create dummies for categorical variables in original \"unbalanced data\" using for loop\n",
    "X_dummy_ori = X_encoded\n",
    "for i in ['job','marital','education','contact','month','day_of_week','poutcome']:\n",
    "    colname = \"is_\" + str(i)\n",
    "    dummy = pd.get_dummies(X[i])\n",
    "    dummy = dummy.drop(dummy.columns[dummy.shape[1]-1], axis=1)\n",
    "    #print(dummy.head())\n",
    "    X_dummy_ori = pd.concat([X_dummy_ori, dummy], axis=1, verify_integrity=False)     #[***]\"verify_integrity\":avoid the result from including \"same\"(duplicate\") index values which would cause an error\n",
    "\n",
    "print(X_dummy_ori.head())"
   ]
  },
  {
   "cell_type": "code",
   "execution_count": null,
   "metadata": {},
   "outputs": [],
   "source": [
    "X_dummy_ori.rename(columns={'housing_encoded': 'housing', 'loan_encoded': 'loan'}, inplace=True)\n",
    "#X_encoded['loan_encoded'].columns='loan'\n",
    "X_dummy_ori.columns\n",
    "\n",
    "X_dummy_ori = X_dummy_ori.drop(['job_encoded', \"marital_encoded\", \"education_encoded\", \"contact_encoded\", \"month_encoded\", \"dayofweek_encoded\", \"poutcome_encoded\"], axis=1)\n",
    "print(X_dummy_ori.columns)\n",
    "\n",
    "X_dummy_ori.head()"
   ]
  },
  {
   "cell_type": "code",
   "execution_count": null,
   "metadata": {},
   "outputs": [],
   "source": [
    "X_dummy_ori.to_csv(\"/Users/baixiao/Desktop/X_dummy_unbalanced.csv\", index=False)"
   ]
  },
  {
   "cell_type": "markdown",
   "metadata": {},
   "source": [
    "product:\n",
    "-\"X_dummy_unbalanced.csv\""
   ]
  },
  {
   "cell_type": "code",
   "execution_count": null,
   "metadata": {},
   "outputs": [],
   "source": []
  }
 ],
 "metadata": {
  "kernelspec": {
   "display_name": "Python [conda env:IntroToBA_Project]",
   "language": "python",
   "name": "conda-env-IntroToBA_Project-py"
  },
  "language_info": {
   "codemirror_mode": {
    "name": "ipython",
    "version": 3
   },
   "file_extension": ".py",
   "mimetype": "text/x-python",
   "name": "python",
   "nbconvert_exporter": "python",
   "pygments_lexer": "ipython3",
   "version": "3.7.1"
  }
 },
 "nbformat": 4,
 "nbformat_minor": 2
}
