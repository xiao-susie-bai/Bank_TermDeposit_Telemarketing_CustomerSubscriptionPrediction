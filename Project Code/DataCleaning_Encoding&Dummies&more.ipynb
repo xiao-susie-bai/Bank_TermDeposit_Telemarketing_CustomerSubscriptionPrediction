{
 "cells": [
  {
   "cell_type": "markdown",
   "metadata": {},
   "source": [
    "# Setup"
   ]
  },
  {
   "cell_type": "code",
   "execution_count": 1,
   "metadata": {},
   "outputs": [
    {
     "name": "stdout",
     "output_type": "stream",
     "text": [
      "['age', 'job', 'marital', 'education', 'default', 'housing', 'loan', 'contact', 'month', 'day_of_week', 'duration', 'campaign', 'pdays', 'previous', 'poutcome', 'emp.var.rate', 'cons.price.idx', 'cons.conf.idx', 'euribor3m', 'nr.employed', 'y']\n"
     ]
    }
   ],
   "source": [
    "# To write a Python 2/3 compatible codebase, the first step is to add this line to the top of each module\n",
    "from __future__ import division, print_function, unicode_literals\n",
    "\n",
    "#  necessary libraries and specify that graphs should be plotted inline.\n",
    "\n",
    "import numpy as np\n",
    "import pandas as pd\n",
    "import matplotlib.pyplot as plt\n",
    "%matplotlib inline\n",
    "from matplotlib.colors import ListedColormap\n",
    "import seaborn as sns\n",
    "\n",
    "np.random.seed(42) # Ensure reproducability"
   ]
  },
  {
   "cell_type": "code",
   "execution_count": null,
   "metadata": {},
   "outputs": [],
   "source": [
    "################################################## Load Data ##################################################\n",
    "\n",
    "df = pd.read_csv(\"/Users/baixiao/Desktop/bank-additional-full.csv\")\n",
    "\n",
    "print(list(df.columns.values))\n",
    "#print(df.isnull().values.any())"
   ]
  },
  {
   "cell_type": "code",
   "execution_count": 2,
   "metadata": {},
   "outputs": [
    {
     "name": "stdout",
     "output_type": "stream",
     "text": [
      "(41188, 21)\n"
     ]
    },
    {
     "data": {
      "text/html": [
       "<div>\n",
       "<style scoped>\n",
       "    .dataframe tbody tr th:only-of-type {\n",
       "        vertical-align: middle;\n",
       "    }\n",
       "\n",
       "    .dataframe tbody tr th {\n",
       "        vertical-align: top;\n",
       "    }\n",
       "\n",
       "    .dataframe thead th {\n",
       "        text-align: right;\n",
       "    }\n",
       "</style>\n",
       "<table border=\"1\" class=\"dataframe\">\n",
       "  <thead>\n",
       "    <tr style=\"text-align: right;\">\n",
       "      <th></th>\n",
       "      <th>age</th>\n",
       "      <th>job</th>\n",
       "      <th>marital</th>\n",
       "      <th>education</th>\n",
       "      <th>default</th>\n",
       "      <th>housing</th>\n",
       "      <th>loan</th>\n",
       "      <th>contact</th>\n",
       "      <th>month</th>\n",
       "      <th>day_of_week</th>\n",
       "      <th>...</th>\n",
       "      <th>campaign</th>\n",
       "      <th>pdays</th>\n",
       "      <th>previous</th>\n",
       "      <th>poutcome</th>\n",
       "      <th>emp.var.rate</th>\n",
       "      <th>cons.price.idx</th>\n",
       "      <th>cons.conf.idx</th>\n",
       "      <th>euribor3m</th>\n",
       "      <th>nr.employed</th>\n",
       "      <th>y</th>\n",
       "    </tr>\n",
       "  </thead>\n",
       "  <tbody>\n",
       "    <tr>\n",
       "      <th>0</th>\n",
       "      <td>56</td>\n",
       "      <td>housemaid</td>\n",
       "      <td>married</td>\n",
       "      <td>basic.4y</td>\n",
       "      <td>no</td>\n",
       "      <td>no</td>\n",
       "      <td>no</td>\n",
       "      <td>telephone</td>\n",
       "      <td>may</td>\n",
       "      <td>mon</td>\n",
       "      <td>...</td>\n",
       "      <td>1</td>\n",
       "      <td>999</td>\n",
       "      <td>0</td>\n",
       "      <td>nonexistent</td>\n",
       "      <td>1.1</td>\n",
       "      <td>93.994</td>\n",
       "      <td>-36.4</td>\n",
       "      <td>4.857</td>\n",
       "      <td>5191.0</td>\n",
       "      <td>no</td>\n",
       "    </tr>\n",
       "    <tr>\n",
       "      <th>1</th>\n",
       "      <td>57</td>\n",
       "      <td>services</td>\n",
       "      <td>married</td>\n",
       "      <td>high.school</td>\n",
       "      <td>unknown</td>\n",
       "      <td>no</td>\n",
       "      <td>no</td>\n",
       "      <td>telephone</td>\n",
       "      <td>may</td>\n",
       "      <td>mon</td>\n",
       "      <td>...</td>\n",
       "      <td>1</td>\n",
       "      <td>999</td>\n",
       "      <td>0</td>\n",
       "      <td>nonexistent</td>\n",
       "      <td>1.1</td>\n",
       "      <td>93.994</td>\n",
       "      <td>-36.4</td>\n",
       "      <td>4.857</td>\n",
       "      <td>5191.0</td>\n",
       "      <td>no</td>\n",
       "    </tr>\n",
       "    <tr>\n",
       "      <th>2</th>\n",
       "      <td>37</td>\n",
       "      <td>services</td>\n",
       "      <td>married</td>\n",
       "      <td>high.school</td>\n",
       "      <td>no</td>\n",
       "      <td>yes</td>\n",
       "      <td>no</td>\n",
       "      <td>telephone</td>\n",
       "      <td>may</td>\n",
       "      <td>mon</td>\n",
       "      <td>...</td>\n",
       "      <td>1</td>\n",
       "      <td>999</td>\n",
       "      <td>0</td>\n",
       "      <td>nonexistent</td>\n",
       "      <td>1.1</td>\n",
       "      <td>93.994</td>\n",
       "      <td>-36.4</td>\n",
       "      <td>4.857</td>\n",
       "      <td>5191.0</td>\n",
       "      <td>no</td>\n",
       "    </tr>\n",
       "    <tr>\n",
       "      <th>3</th>\n",
       "      <td>40</td>\n",
       "      <td>admin.</td>\n",
       "      <td>married</td>\n",
       "      <td>basic.6y</td>\n",
       "      <td>no</td>\n",
       "      <td>no</td>\n",
       "      <td>no</td>\n",
       "      <td>telephone</td>\n",
       "      <td>may</td>\n",
       "      <td>mon</td>\n",
       "      <td>...</td>\n",
       "      <td>1</td>\n",
       "      <td>999</td>\n",
       "      <td>0</td>\n",
       "      <td>nonexistent</td>\n",
       "      <td>1.1</td>\n",
       "      <td>93.994</td>\n",
       "      <td>-36.4</td>\n",
       "      <td>4.857</td>\n",
       "      <td>5191.0</td>\n",
       "      <td>no</td>\n",
       "    </tr>\n",
       "    <tr>\n",
       "      <th>4</th>\n",
       "      <td>56</td>\n",
       "      <td>services</td>\n",
       "      <td>married</td>\n",
       "      <td>high.school</td>\n",
       "      <td>no</td>\n",
       "      <td>no</td>\n",
       "      <td>yes</td>\n",
       "      <td>telephone</td>\n",
       "      <td>may</td>\n",
       "      <td>mon</td>\n",
       "      <td>...</td>\n",
       "      <td>1</td>\n",
       "      <td>999</td>\n",
       "      <td>0</td>\n",
       "      <td>nonexistent</td>\n",
       "      <td>1.1</td>\n",
       "      <td>93.994</td>\n",
       "      <td>-36.4</td>\n",
       "      <td>4.857</td>\n",
       "      <td>5191.0</td>\n",
       "      <td>no</td>\n",
       "    </tr>\n",
       "  </tbody>\n",
       "</table>\n",
       "<p>5 rows × 21 columns</p>\n",
       "</div>"
      ],
      "text/plain": [
       "   age        job  marital    education  default housing loan    contact  \\\n",
       "0   56  housemaid  married     basic.4y       no      no   no  telephone   \n",
       "1   57   services  married  high.school  unknown      no   no  telephone   \n",
       "2   37   services  married  high.school       no     yes   no  telephone   \n",
       "3   40     admin.  married     basic.6y       no      no   no  telephone   \n",
       "4   56   services  married  high.school       no      no  yes  telephone   \n",
       "\n",
       "  month day_of_week  ...  campaign  pdays  previous     poutcome emp.var.rate  \\\n",
       "0   may         mon  ...         1    999         0  nonexistent          1.1   \n",
       "1   may         mon  ...         1    999         0  nonexistent          1.1   \n",
       "2   may         mon  ...         1    999         0  nonexistent          1.1   \n",
       "3   may         mon  ...         1    999         0  nonexistent          1.1   \n",
       "4   may         mon  ...         1    999         0  nonexistent          1.1   \n",
       "\n",
       "   cons.price.idx  cons.conf.idx  euribor3m  nr.employed   y  \n",
       "0          93.994          -36.4      4.857       5191.0  no  \n",
       "1          93.994          -36.4      4.857       5191.0  no  \n",
       "2          93.994          -36.4      4.857       5191.0  no  \n",
       "3          93.994          -36.4      4.857       5191.0  no  \n",
       "4          93.994          -36.4      4.857       5191.0  no  \n",
       "\n",
       "[5 rows x 21 columns]"
      ]
     },
     "execution_count": 2,
     "metadata": {},
     "output_type": "execute_result"
    }
   ],
   "source": [
    "print(df.shape)\n",
    "df.head()"
   ]
  },
  {
   "cell_type": "markdown",
   "metadata": {},
   "source": [
    "# Data Understanding"
   ]
  },
  {
   "cell_type": "code",
   "execution_count": 3,
   "metadata": {
    "scrolled": false
   },
   "outputs": [
    {
     "name": "stdout",
     "output_type": "stream",
     "text": [
      "Are there null values? False\n",
      "(41188, 20)\n",
      "X:\n",
      "   age        job  marital    education  default housing loan    contact  \\\n",
      "0   56  housemaid  married     basic.4y       no      no   no  telephone   \n",
      "1   57   services  married  high.school  unknown      no   no  telephone   \n",
      "2   37   services  married  high.school       no     yes   no  telephone   \n",
      "3   40     admin.  married     basic.6y       no      no   no  telephone   \n",
      "4   56   services  married  high.school       no      no  yes  telephone   \n",
      "\n",
      "  month day_of_week  campaign  pdays  previous     poutcome  emp.var.rate  \\\n",
      "0   may         mon         1    999         0  nonexistent           1.1   \n",
      "1   may         mon         1    999         0  nonexistent           1.1   \n",
      "2   may         mon         1    999         0  nonexistent           1.1   \n",
      "3   may         mon         1    999         0  nonexistent           1.1   \n",
      "4   may         mon         1    999         0  nonexistent           1.1   \n",
      "\n",
      "   cons.price.idx  cons.conf.idx  euribor3m  nr.employed  \n",
      "0          93.994          -36.4      4.857       5191.0  \n",
      "1          93.994          -36.4      4.857       5191.0  \n",
      "2          93.994          -36.4      4.857       5191.0  \n",
      "3          93.994          -36.4      4.857       5191.0  \n",
      "4          93.994          -36.4      4.857       5191.0  \n",
      "y:\n",
      "0    no\n",
      "1    no\n",
      "2    no\n",
      "3    no\n",
      "4    no\n",
      "Name: y, dtype: object\n"
     ]
    }
   ],
   "source": [
    "#Drop \"duration\"\n",
    "if 'duration' in df:\n",
    "    df = df.drop(['duration'], axis=1)\n",
    "\n",
    "#Check if there are any null values\n",
    "check = df.isnull().values.any()\n",
    "print('Are there null values? '+ str(check) )\n",
    "print(df.shape)\n",
    "\n",
    "# Retrieving Attributes (X)\n",
    "X = df.iloc[:, 0:19]\n",
    "features = []              #list of features to use in our tree from the dataset\n",
    "for col in X.columns:     \n",
    "    features.append(col)  \n",
    "print(\"X:\")\n",
    "print(X.head())\n",
    "    \n",
    "# Retriving Target Variable (y)\n",
    "y = df.iloc[:,19] # grab target column\n",
    "print(\"y:\")\n",
    "print(y.head())"
   ]
  },
  {
   "cell_type": "code",
   "execution_count": 4,
   "metadata": {
    "scrolled": true
   },
   "outputs": [
    {
     "name": "stdout",
     "output_type": "stream",
     "text": [
      "The frequency of instances per class is:  {'no': 36548, 'yes': 4640}  where YES means the customer deposited, and NO means the customer did not deposit.\n",
      "The Percentages per class: No: 0.89; Yes: 0.11\n"
     ]
    },
    {
     "data": {
      "text/plain": [
       "Text(0.5, 1.0, 'Distribution of Target Variable')"
      ]
     },
     "execution_count": 4,
     "metadata": {},
     "output_type": "execute_result"
    },
    {
     "data": {
      "image/png": "[encoded data removed]",
      "text/plain": [
       "<Figure size 432x288 with 1 Axes>"
      ]
     },
     "metadata": {
      "needs_background": "light"
     },
     "output_type": "display_data"
    }
   ],
   "source": [
    "# Exploring Target Variable\n",
    "unique, counts = np.unique(y, return_counts=True) # 2 distinct classes relatively balanced\n",
    "print(\"The frequency of instances per class is: \" , dict(zip(unique, counts)), \" where YES means the customer deposited, and NO means the customer did not deposit.\")\n",
    "print(\"The Percentages per class:\", \"No: %.2f;\" % (counts[0]/(counts[0]+counts[1])), \"Yes: %.2f\" % (counts[1]/(counts[0]+counts[1])))\n",
    "sns.barplot(unique, counts)\n",
    "plt.title(\"Distribution of Target Variable\")"
   ]
  },
  {
   "cell_type": "markdown",
   "metadata": {},
   "source": [
    "Conclusion: need data rebalance "
   ]
  },
  {
   "cell_type": "code",
   "execution_count": 5,
   "metadata": {},
   "outputs": [],
   "source": [
    "numeric =['age' , 'campaign', 'pdays', 'previous', 'emp.var.rate', 'cons.price.idx', 'cons.conf.idx', 'euribor3m', 'nr.employed' ]\n",
    "categorical = ['job', 'marital', 'education', 'default', 'housing', 'loan', 'contact', 'month', 'day_of_week', 'poutcome']"
   ]
  },
  {
   "cell_type": "code",
   "execution_count": 6,
   "metadata": {},
   "outputs": [
    {
     "name": "stdout",
     "output_type": "stream",
     "text": [
      "Description of Quantitative Values\n",
      "               age      campaign         pdays      previous  emp.var.rate  \\\n",
      "count  41188.00000  41188.000000  41188.000000  41188.000000  41188.000000   \n",
      "mean      40.02406      2.567593    962.475454      0.172963      0.081886   \n",
      "std       10.42125      2.770014    186.910907      0.494901      1.570960   \n",
      "min       17.00000      1.000000      0.000000      0.000000     -3.400000   \n",
      "25%       32.00000      1.000000    999.000000      0.000000     -1.800000   \n",
      "50%       38.00000      2.000000    999.000000      0.000000      1.100000   \n",
      "75%       47.00000      3.000000    999.000000      0.000000      1.400000   \n",
      "max       98.00000     56.000000    999.000000      7.000000      1.400000   \n",
      "\n",
      "       cons.price.idx  cons.conf.idx     euribor3m   nr.employed  \n",
      "count    41188.000000   41188.000000  41188.000000  41188.000000  \n",
      "mean        93.575664     -40.502600      3.621291   5167.035911  \n",
      "std          0.578840       4.628198      1.734447     72.251528  \n",
      "min         92.201000     -50.800000      0.634000   4963.600000  \n",
      "25%         93.075000     -42.700000      1.344000   5099.100000  \n",
      "50%         93.749000     -41.800000      4.857000   5191.000000  \n",
      "75%         93.994000     -36.400000      4.961000   5228.100000  \n",
      "max         94.767000     -26.900000      5.045000   5228.100000  \n"
     ]
    }
   ],
   "source": [
    "#Info about the quantitative data\n",
    "print(\"Description of Quantitative Values\")\n",
    "print(df.describe())"
   ]
  },
  {
   "cell_type": "code",
   "execution_count": 7,
   "metadata": {
    "scrolled": false
   },
   "outputs": [
    {
     "data": {
      "image/png": "[encoded data removed]",
      "text/plain": [
       "<Figure size 432x288 with 1 Axes>"
      ]
     },
     "metadata": {
      "needs_background": "light"
     },
     "output_type": "display_data"
    },
    {
     "data": {
      "image/png": "[encoded data removed]",
      "text/plain": [
       "<Figure size 432x288 with 1 Axes>"
      ]
     },
     "metadata": {
      "needs_background": "light"
     },
     "output_type": "display_data"
    },
    {
     "data": {
      "image/png": "[encoded data removed]",
      "text/plain": [
       "<Figure size 432x288 with 1 Axes>"
      ]
     },
     "metadata": {
      "needs_background": "light"
     },
     "output_type": "display_data"
    },
    {
     "data": {
      "image/png": "[encoded data removed]",
      "text/plain": [
       "<Figure size 432x288 with 1 Axes>"
      ]
     },
     "metadata": {
      "needs_background": "light"
     },
     "output_type": "display_data"
    },
    {
     "data": {
      "image/png": "[encoded data removed]",
      "text/plain": [
       "<Figure size 432x288 with 1 Axes>"
      ]
     },
     "metadata": {
      "needs_background": "light"
     },
     "output_type": "display_data"
    },
    {
     "data": {
      "image/png": "[encoded data removed]",
      "text/plain": [
       "<Figure size 432x288 with 1 Axes>"
      ]
     },
     "metadata": {
      "needs_background": "light"
     },
     "output_type": "display_data"
    },
    {
     "data": {
      "image/png": "[encoded data removed]",
      "text/plain": [
       "<Figure size 432x288 with 1 Axes>"
      ]
     },
     "metadata": {
      "needs_background": "light"
     },
     "output_type": "display_data"
    },
    {
     "data": {
      "image/png": "[encoded data removed]",
      "text/plain": [
       "<Figure size 432x288 with 1 Axes>"
      ]
     },
     "metadata": {
      "needs_background": "light"
     },
     "output_type": "display_data"
    },
    {
     "data": {
      "image/png": "[encoded data removed]",
      "text/plain": [
       "<Figure size 432x288 with 1 Axes>"
      ]
     },
     "metadata": {
      "needs_background": "light"
     },
     "output_type": "display_data"
    }
   ],
   "source": [
    "#plot hist for each columns\n",
    "for i in numeric:\n",
    "    dist = df[i]\n",
    "    dist.hist(grid=True, bins=20)\n",
    "    plt.title('Histogram for ' + str(i))\n",
    "    plt.xlabel(i)\n",
    "    plt.grid(axis='y', alpha=0.75) \n",
    "    plt.show()\n"
   ]
  },
  {
   "cell_type": "markdown",
   "metadata": {},
   "source": [
    "Observation: The vast majority people have not been contacted in Previous campaigns.\n",
    "Thinking: create new variable indicate indicating \"Contacted in Previous or Not?\""
   ]
  },
  {
   "cell_type": "code",
   "execution_count": 8,
   "metadata": {},
   "outputs": [
    {
     "name": "stdout",
     "output_type": "stream",
     "text": [
      "\n",
      "\n",
      "Description of Quantitative Values\n",
      "\n",
      "\n",
      "Description of 'job'\n",
      "admin.           10422\n",
      "blue-collar       9254\n",
      "technician        6743\n",
      "services          3969\n",
      "management        2924\n",
      "retired           1720\n",
      "entrepreneur      1456\n",
      "self-employed     1421\n",
      "housemaid         1060\n",
      "unemployed        1014\n",
      "student            875\n",
      "unknown            330\n",
      "Name: job, dtype: int64\n",
      "Percentage of 'unknown': 0.008\n",
      "\n",
      "\n",
      "Description of 'marital'\n",
      "married     24928\n",
      "single      11568\n",
      "divorced     4612\n",
      "unknown        80\n",
      "Name: marital, dtype: int64\n",
      "Percentage of 'unknown': 0.002\n",
      "\n",
      "\n",
      "Description of 'education'\n",
      "university.degree      12168\n",
      "high.school             9515\n",
      "basic.9y                6045\n",
      "professional.course     5243\n",
      "basic.4y                4176\n",
      "basic.6y                2292\n",
      "unknown                 1731\n",
      "illiterate                18\n",
      "Name: education, dtype: int64\n",
      "Percentage of 'unknown': 0.042\n",
      "\n",
      "\n",
      "Description of 'default'\n",
      "no         32588\n",
      "unknown     8597\n",
      "yes            3\n",
      "Name: default, dtype: int64\n",
      "Percentage of 'unknown': 0.209\n",
      "\n",
      "\n",
      "Description of 'housing'\n",
      "yes        21576\n",
      "no         18622\n",
      "unknown      990\n",
      "Name: housing, dtype: int64\n",
      "Percentage of 'unknown': 0.024\n",
      "\n",
      "\n",
      "Description of 'loan'\n",
      "no         33950\n",
      "yes         6248\n",
      "unknown      990\n",
      "Name: loan, dtype: int64\n",
      "Percentage of 'unknown': 0.024\n",
      "\n",
      "\n",
      "Description of 'contact'\n",
      "cellular     26144\n",
      "telephone    15044\n",
      "Name: contact, dtype: int64\n",
      "\n",
      "\n",
      "Description of 'month'\n",
      "may    13769\n",
      "jul     7174\n",
      "aug     6178\n",
      "jun     5318\n",
      "nov     4101\n",
      "apr     2632\n",
      "oct      718\n",
      "sep      570\n",
      "mar      546\n",
      "dec      182\n",
      "Name: month, dtype: int64\n",
      "\n",
      "\n",
      "Description of 'day_of_week'\n",
      "thu    8623\n",
      "mon    8514\n",
      "wed    8134\n",
      "tue    8090\n",
      "fri    7827\n",
      "Name: day_of_week, dtype: int64\n",
      "\n",
      "\n",
      "Description of 'poutcome'\n",
      "nonexistent    35563\n",
      "failure         4252\n",
      "success         1373\n",
      "Name: poutcome, dtype: int64\n"
     ]
    }
   ],
   "source": [
    "#Info about the qualitative data\n",
    "print(\"\\n\")\n",
    "print(\"Description of Quantitative Values\")\n",
    "for i in categorical:\n",
    "    print(\"\\n\")\n",
    "    print(\"Description of \" + \"'\" + i + \"'\" )\n",
    "    cat = df[i]\n",
    "    value_count = cat.value_counts()\n",
    "    print(value_count)\n",
    "    if 'unknown' in value_count.index:\n",
    "        print(\"Percentage of 'unknown': %.3f\" % (value_count['unknown']/sum(value_count)))"
   ]
  },
  {
   "cell_type": "markdown",
   "metadata": {},
   "source": [
    "Observation & Conclusion: \n",
    "\"default\" column has more than 20% 'unknown's, and extreme data imbalance issue between \"yes\" and \"no\" in this column.\n",
    "So, discard this column."
   ]
  },
  {
   "cell_type": "code",
   "execution_count": 9,
   "metadata": {},
   "outputs": [
    {
     "data": {
      "text/html": [
       "<style  type=\"text/css\" >\n",
       "    #T_ebe65cc2_e56f_11e9_90dd_acde48001122row0_col0 {\n",
       "            background-color:  #b40426;\n",
       "            color:  #f1f1f1;\n",
       "        }    #T_ebe65cc2_e56f_11e9_90dd_acde48001122row0_col1 {\n",
       "            background-color:  #516ddb;\n",
       "            color:  #000000;\n",
       "        }    #T_ebe65cc2_e56f_11e9_90dd_acde48001122row0_col2 {\n",
       "            background-color:  #afcafc;\n",
       "            color:  #000000;\n",
       "        }    #T_ebe65cc2_e56f_11e9_90dd_acde48001122row0_col3 {\n",
       "            background-color:  #bbd1f8;\n",
       "            color:  #000000;\n",
       "        }    #T_ebe65cc2_e56f_11e9_90dd_acde48001122row0_col4 {\n",
       "            background-color:  #9dbdff;\n",
       "            color:  #000000;\n",
       "        }    #T_ebe65cc2_e56f_11e9_90dd_acde48001122row0_col5 {\n",
       "            background-color:  #7093f3;\n",
       "            color:  #000000;\n",
       "        }    #T_ebe65cc2_e56f_11e9_90dd_acde48001122row0_col6 {\n",
       "            background-color:  #7b9ff9;\n",
       "            color:  #000000;\n",
       "        }    #T_ebe65cc2_e56f_11e9_90dd_acde48001122row0_col7 {\n",
       "            background-color:  #a5c3fe;\n",
       "            color:  #000000;\n",
       "        }    #T_ebe65cc2_e56f_11e9_90dd_acde48001122row0_col8 {\n",
       "            background-color:  #a6c4fe;\n",
       "            color:  #000000;\n",
       "        }    #T_ebe65cc2_e56f_11e9_90dd_acde48001122row1_col0 {\n",
       "            background-color:  #455cce;\n",
       "            color:  #f1f1f1;\n",
       "        }    #T_ebe65cc2_e56f_11e9_90dd_acde48001122row1_col1 {\n",
       "            background-color:  #b40426;\n",
       "            color:  #f1f1f1;\n",
       "        }    #T_ebe65cc2_e56f_11e9_90dd_acde48001122row1_col2 {\n",
       "            background-color:  #c1d4f4;\n",
       "            color:  #000000;\n",
       "        }    #T_ebe65cc2_e56f_11e9_90dd_acde48001122row1_col3 {\n",
       "            background-color:  #a5c3fe;\n",
       "            color:  #000000;\n",
       "        }    #T_ebe65cc2_e56f_11e9_90dd_acde48001122row1_col4 {\n",
       "            background-color:  #c0d4f5;\n",
       "            color:  #000000;\n",
       "        }    #T_ebe65cc2_e56f_11e9_90dd_acde48001122row1_col5 {\n",
       "            background-color:  #96b7ff;\n",
       "            color:  #000000;\n",
       "        }    #T_ebe65cc2_e56f_11e9_90dd_acde48001122row1_col6 {\n",
       "            background-color:  #506bda;\n",
       "            color:  #000000;\n",
       "        }    #T_ebe65cc2_e56f_11e9_90dd_acde48001122row1_col7 {\n",
       "            background-color:  #c1d4f4;\n",
       "            color:  #000000;\n",
       "        }    #T_ebe65cc2_e56f_11e9_90dd_acde48001122row1_col8 {\n",
       "            background-color:  #cad8ef;\n",
       "            color:  #000000;\n",
       "        }    #T_ebe65cc2_e56f_11e9_90dd_acde48001122row2_col0 {\n",
       "            background-color:  #3b4cc0;\n",
       "            color:  #f1f1f1;\n",
       "        }    #T_ebe65cc2_e56f_11e9_90dd_acde48001122row2_col1 {\n",
       "            background-color:  #6180e9;\n",
       "            color:  #000000;\n",
       "        }    #T_ebe65cc2_e56f_11e9_90dd_acde48001122row2_col2 {\n",
       "            background-color:  #b40426;\n",
       "            color:  #f1f1f1;\n",
       "        }    #T_ebe65cc2_e56f_11e9_90dd_acde48001122row2_col3 {\n",
       "            background-color:  #3b4cc0;\n",
       "            color:  #f1f1f1;\n",
       "        }    #T_ebe65cc2_e56f_11e9_90dd_acde48001122row2_col4 {\n",
       "            background-color:  #d9dce1;\n",
       "            color:  #000000;\n",
       "        }    #T_ebe65cc2_e56f_11e9_90dd_acde48001122row2_col5 {\n",
       "            background-color:  #88abfd;\n",
       "            color:  #000000;\n",
       "        }    #T_ebe65cc2_e56f_11e9_90dd_acde48001122row2_col6 {\n",
       "            background-color:  #3b4cc0;\n",
       "            color:  #f1f1f1;\n",
       "        }    #T_ebe65cc2_e56f_11e9_90dd_acde48001122row2_col7 {\n",
       "            background-color:  #e1dad6;\n",
       "            color:  #000000;\n",
       "        }    #T_ebe65cc2_e56f_11e9_90dd_acde48001122row2_col8 {\n",
       "            background-color:  #efcebd;\n",
       "            color:  #000000;\n",
       "        }    #T_ebe65cc2_e56f_11e9_90dd_acde48001122row3_col0 {\n",
       "            background-color:  #4b64d5;\n",
       "            color:  #f1f1f1;\n",
       "        }    #T_ebe65cc2_e56f_11e9_90dd_acde48001122row3_col1 {\n",
       "            background-color:  #3b4cc0;\n",
       "            color:  #f1f1f1;\n",
       "        }    #T_ebe65cc2_e56f_11e9_90dd_acde48001122row3_col2 {\n",
       "            background-color:  #3b4cc0;\n",
       "            color:  #f1f1f1;\n",
       "        }    #T_ebe65cc2_e56f_11e9_90dd_acde48001122row3_col3 {\n",
       "            background-color:  #b40426;\n",
       "            color:  #f1f1f1;\n",
       "        }    #T_ebe65cc2_e56f_11e9_90dd_acde48001122row3_col4 {\n",
       "            background-color:  #3b4cc0;\n",
       "            color:  #f1f1f1;\n",
       "        }    #T_ebe65cc2_e56f_11e9_90dd_acde48001122row3_col5 {\n",
       "            background-color:  #3b4cc0;\n",
       "            color:  #f1f1f1;\n",
       "        }    #T_ebe65cc2_e56f_11e9_90dd_acde48001122row3_col6 {\n",
       "            background-color:  #455cce;\n",
       "            color:  #f1f1f1;\n",
       "        }    #T_ebe65cc2_e56f_11e9_90dd_acde48001122row3_col7 {\n",
       "            background-color:  #3b4cc0;\n",
       "            color:  #f1f1f1;\n",
       "        }    #T_ebe65cc2_e56f_11e9_90dd_acde48001122row3_col8 {\n",
       "            background-color:  #3b4cc0;\n",
       "            color:  #f1f1f1;\n",
       "        }    #T_ebe65cc2_e56f_11e9_90dd_acde48001122row4_col0 {\n",
       "            background-color:  #445acc;\n",
       "            color:  #f1f1f1;\n",
       "        }    #T_ebe65cc2_e56f_11e9_90dd_acde48001122row4_col1 {\n",
       "            background-color:  #80a3fa;\n",
       "            color:  #000000;\n",
       "        }    #T_ebe65cc2_e56f_11e9_90dd_acde48001122row4_col2 {\n",
       "            background-color:  #e7d7ce;\n",
       "            color:  #000000;\n",
       "        }    #T_ebe65cc2_e56f_11e9_90dd_acde48001122row4_col3 {\n",
       "            background-color:  #5a78e4;\n",
       "            color:  #000000;\n",
       "        }    #T_ebe65cc2_e56f_11e9_90dd_acde48001122row4_col4 {\n",
       "            background-color:  #b40426;\n",
       "            color:  #f1f1f1;\n",
       "        }    #T_ebe65cc2_e56f_11e9_90dd_acde48001122row4_col5 {\n",
       "            background-color:  #eb7d62;\n",
       "            color:  #000000;\n",
       "        }    #T_ebe65cc2_e56f_11e9_90dd_acde48001122row4_col6 {\n",
       "            background-color:  #92b4fe;\n",
       "            color:  #000000;\n",
       "        }    #T_ebe65cc2_e56f_11e9_90dd_acde48001122row4_col7 {\n",
       "            background-color:  #ba162b;\n",
       "            color:  #f1f1f1;\n",
       "        }    #T_ebe65cc2_e56f_11e9_90dd_acde48001122row4_col8 {\n",
       "            background-color:  #ca3b37;\n",
       "            color:  #f1f1f1;\n",
       "        }    #T_ebe65cc2_e56f_11e9_90dd_acde48001122row5_col0 {\n",
       "            background-color:  #445acc;\n",
       "            color:  #f1f1f1;\n",
       "        }    #T_ebe65cc2_e56f_11e9_90dd_acde48001122row5_col1 {\n",
       "            background-color:  #799cf8;\n",
       "            color:  #000000;\n",
       "        }    #T_ebe65cc2_e56f_11e9_90dd_acde48001122row5_col2 {\n",
       "            background-color:  #c6d6f1;\n",
       "            color:  #000000;\n",
       "        }    #T_ebe65cc2_e56f_11e9_90dd_acde48001122row5_col3 {\n",
       "            background-color:  #89acfd;\n",
       "            color:  #000000;\n",
       "        }    #T_ebe65cc2_e56f_11e9_90dd_acde48001122row5_col4 {\n",
       "            background-color:  #e57058;\n",
       "            color:  #000000;\n",
       "        }    #T_ebe65cc2_e56f_11e9_90dd_acde48001122row5_col5 {\n",
       "            background-color:  #b40426;\n",
       "            color:  #f1f1f1;\n",
       "        }    #T_ebe65cc2_e56f_11e9_90dd_acde48001122row5_col6 {\n",
       "            background-color:  #6687ed;\n",
       "            color:  #000000;\n",
       "        }    #T_ebe65cc2_e56f_11e9_90dd_acde48001122row5_col7 {\n",
       "            background-color:  #f08a6c;\n",
       "            color:  #000000;\n",
       "        }    #T_ebe65cc2_e56f_11e9_90dd_acde48001122row5_col8 {\n",
       "            background-color:  #f7b396;\n",
       "            color:  #000000;\n",
       "        }    #T_ebe65cc2_e56f_11e9_90dd_acde48001122row6_col0 {\n",
       "            background-color:  #6c8ff1;\n",
       "            color:  #000000;\n",
       "        }    #T_ebe65cc2_e56f_11e9_90dd_acde48001122row6_col1 {\n",
       "            background-color:  #4c66d6;\n",
       "            color:  #000000;\n",
       "        }    #T_ebe65cc2_e56f_11e9_90dd_acde48001122row6_col2 {\n",
       "            background-color:  #a3c2fe;\n",
       "            color:  #000000;\n",
       "        }    #T_ebe65cc2_e56f_11e9_90dd_acde48001122row6_col3 {\n",
       "            background-color:  #abc8fd;\n",
       "            color:  #000000;\n",
       "        }    #T_ebe65cc2_e56f_11e9_90dd_acde48001122row6_col4 {\n",
       "            background-color:  #cbd8ee;\n",
       "            color:  #000000;\n",
       "        }    #T_ebe65cc2_e56f_11e9_90dd_acde48001122row6_col5 {\n",
       "            background-color:  #81a4fb;\n",
       "            color:  #000000;\n",
       "        }    #T_ebe65cc2_e56f_11e9_90dd_acde48001122row6_col6 {\n",
       "            background-color:  #b40426;\n",
       "            color:  #f1f1f1;\n",
       "        }    #T_ebe65cc2_e56f_11e9_90dd_acde48001122row6_col7 {\n",
       "            background-color:  #dddcdc;\n",
       "            color:  #000000;\n",
       "        }    #T_ebe65cc2_e56f_11e9_90dd_acde48001122row6_col8 {\n",
       "            background-color:  #c0d4f5;\n",
       "            color:  #000000;\n",
       "        }    #T_ebe65cc2_e56f_11e9_90dd_acde48001122row7_col0 {\n",
       "            background-color:  #485fd1;\n",
       "            color:  #f1f1f1;\n",
       "        }    #T_ebe65cc2_e56f_11e9_90dd_acde48001122row7_col1 {\n",
       "            background-color:  #7a9df8;\n",
       "            color:  #000000;\n",
       "        }    #T_ebe65cc2_e56f_11e9_90dd_acde48001122row7_col2 {\n",
       "            background-color:  #ead4c8;\n",
       "            color:  #000000;\n",
       "        }    #T_ebe65cc2_e56f_11e9_90dd_acde48001122row7_col3 {\n",
       "            background-color:  #5470de;\n",
       "            color:  #000000;\n",
       "        }    #T_ebe65cc2_e56f_11e9_90dd_acde48001122row7_col4 {\n",
       "            background-color:  #bb1b2c;\n",
       "            color:  #f1f1f1;\n",
       "        }    #T_ebe65cc2_e56f_11e9_90dd_acde48001122row7_col5 {\n",
       "            background-color:  #f59d7e;\n",
       "            color:  #000000;\n",
       "        }    #T_ebe65cc2_e56f_11e9_90dd_acde48001122row7_col6 {\n",
       "            background-color:  #abc8fd;\n",
       "            color:  #000000;\n",
       "        }    #T_ebe65cc2_e56f_11e9_90dd_acde48001122row7_col7 {\n",
       "            background-color:  #b40426;\n",
       "            color:  #f1f1f1;\n",
       "        }    #T_ebe65cc2_e56f_11e9_90dd_acde48001122row7_col8 {\n",
       "            background-color:  #c12b30;\n",
       "            color:  #f1f1f1;\n",
       "        }    #T_ebe65cc2_e56f_11e9_90dd_acde48001122row8_col0 {\n",
       "            background-color:  #3f53c6;\n",
       "            color:  #f1f1f1;\n",
       "        }    #T_ebe65cc2_e56f_11e9_90dd_acde48001122row8_col1 {\n",
       "            background-color:  #7da0f9;\n",
       "            color:  #000000;\n",
       "        }    #T_ebe65cc2_e56f_11e9_90dd_acde48001122row8_col2 {\n",
       "            background-color:  #f2cab5;\n",
       "            color:  #000000;\n",
       "        }    #T_ebe65cc2_e56f_11e9_90dd_acde48001122row8_col3 {\n",
       "            background-color:  #4a63d3;\n",
       "            color:  #f1f1f1;\n",
       "        }    #T_ebe65cc2_e56f_11e9_90dd_acde48001122row8_col4 {\n",
       "            background-color:  #cb3e38;\n",
       "            color:  #f1f1f1;\n",
       "        }    #T_ebe65cc2_e56f_11e9_90dd_acde48001122row8_col5 {\n",
       "            background-color:  #f2cab5;\n",
       "            color:  #000000;\n",
       "        }    #T_ebe65cc2_e56f_11e9_90dd_acde48001122row8_col6 {\n",
       "            background-color:  #7396f5;\n",
       "            color:  #000000;\n",
       "        }    #T_ebe65cc2_e56f_11e9_90dd_acde48001122row8_col7 {\n",
       "            background-color:  #c12b30;\n",
       "            color:  #f1f1f1;\n",
       "        }    #T_ebe65cc2_e56f_11e9_90dd_acde48001122row8_col8 {\n",
       "            background-color:  #b40426;\n",
       "            color:  #f1f1f1;\n",
       "        }</style><table id=\"T_ebe65cc2_e56f_11e9_90dd_acde48001122\" ><thead>    <tr>        <th class=\"blank level0\" ></th>        <th class=\"col_heading level0 col0\" >age</th>        <th class=\"col_heading level0 col1\" >campaign</th>        <th class=\"col_heading level0 col2\" >pdays</th>        <th class=\"col_heading level0 col3\" >previous</th>        <th class=\"col_heading level0 col4\" >emp.var.rate</th>        <th class=\"col_heading level0 col5\" >cons.price.idx</th>        <th class=\"col_heading level0 col6\" >cons.conf.idx</th>        <th class=\"col_heading level0 col7\" >euribor3m</th>        <th class=\"col_heading level0 col8\" >nr.employed</th>    </tr></thead><tbody>\n",
       "                <tr>\n",
       "                        <th id=\"T_ebe65cc2_e56f_11e9_90dd_acde48001122level0_row0\" class=\"row_heading level0 row0\" >age</th>\n",
       "                        <td id=\"T_ebe65cc2_e56f_11e9_90dd_acde48001122row0_col0\" class=\"data row0 col0\" >1</td>\n",
       "                        <td id=\"T_ebe65cc2_e56f_11e9_90dd_acde48001122row0_col1\" class=\"data row0 col1\" >0.00459</td>\n",
       "                        <td id=\"T_ebe65cc2_e56f_11e9_90dd_acde48001122row0_col2\" class=\"data row0 col2\" >-0.0344</td>\n",
       "                        <td id=\"T_ebe65cc2_e56f_11e9_90dd_acde48001122row0_col3\" class=\"data row0 col3\" >0.0244</td>\n",
       "                        <td id=\"T_ebe65cc2_e56f_11e9_90dd_acde48001122row0_col4\" class=\"data row0 col4\" >-0.000371</td>\n",
       "                        <td id=\"T_ebe65cc2_e56f_11e9_90dd_acde48001122row0_col5\" class=\"data row0 col5\" >0.000857</td>\n",
       "                        <td id=\"T_ebe65cc2_e56f_11e9_90dd_acde48001122row0_col6\" class=\"data row0 col6\" >0.129</td>\n",
       "                        <td id=\"T_ebe65cc2_e56f_11e9_90dd_acde48001122row0_col7\" class=\"data row0 col7\" >0.0108</td>\n",
       "                        <td id=\"T_ebe65cc2_e56f_11e9_90dd_acde48001122row0_col8\" class=\"data row0 col8\" >-0.0177</td>\n",
       "            </tr>\n",
       "            <tr>\n",
       "                        <th id=\"T_ebe65cc2_e56f_11e9_90dd_acde48001122level0_row1\" class=\"row_heading level0 row1\" >campaign</th>\n",
       "                        <td id=\"T_ebe65cc2_e56f_11e9_90dd_acde48001122row1_col0\" class=\"data row1 col0\" >0.00459</td>\n",
       "                        <td id=\"T_ebe65cc2_e56f_11e9_90dd_acde48001122row1_col1\" class=\"data row1 col1\" >1</td>\n",
       "                        <td id=\"T_ebe65cc2_e56f_11e9_90dd_acde48001122row1_col2\" class=\"data row1 col2\" >0.0526</td>\n",
       "                        <td id=\"T_ebe65cc2_e56f_11e9_90dd_acde48001122row1_col3\" class=\"data row1 col3\" >-0.0791</td>\n",
       "                        <td id=\"T_ebe65cc2_e56f_11e9_90dd_acde48001122row1_col4\" class=\"data row1 col4\" >0.151</td>\n",
       "                        <td id=\"T_ebe65cc2_e56f_11e9_90dd_acde48001122row1_col5\" class=\"data row1 col5\" >0.128</td>\n",
       "                        <td id=\"T_ebe65cc2_e56f_11e9_90dd_acde48001122row1_col6\" class=\"data row1 col6\" >-0.0137</td>\n",
       "                        <td id=\"T_ebe65cc2_e56f_11e9_90dd_acde48001122row1_col7\" class=\"data row1 col7\" >0.135</td>\n",
       "                        <td id=\"T_ebe65cc2_e56f_11e9_90dd_acde48001122row1_col8\" class=\"data row1 col8\" >0.144</td>\n",
       "            </tr>\n",
       "            <tr>\n",
       "                        <th id=\"T_ebe65cc2_e56f_11e9_90dd_acde48001122level0_row2\" class=\"row_heading level0 row2\" >pdays</th>\n",
       "                        <td id=\"T_ebe65cc2_e56f_11e9_90dd_acde48001122row2_col0\" class=\"data row2 col0\" >-0.0344</td>\n",
       "                        <td id=\"T_ebe65cc2_e56f_11e9_90dd_acde48001122row2_col1\" class=\"data row2 col1\" >0.0526</td>\n",
       "                        <td id=\"T_ebe65cc2_e56f_11e9_90dd_acde48001122row2_col2\" class=\"data row2 col2\" >1</td>\n",
       "                        <td id=\"T_ebe65cc2_e56f_11e9_90dd_acde48001122row2_col3\" class=\"data row2 col3\" >-0.588</td>\n",
       "                        <td id=\"T_ebe65cc2_e56f_11e9_90dd_acde48001122row2_col4\" class=\"data row2 col4\" >0.271</td>\n",
       "                        <td id=\"T_ebe65cc2_e56f_11e9_90dd_acde48001122row2_col5\" class=\"data row2 col5\" >0.0789</td>\n",
       "                        <td id=\"T_ebe65cc2_e56f_11e9_90dd_acde48001122row2_col6\" class=\"data row2 col6\" >-0.0913</td>\n",
       "                        <td id=\"T_ebe65cc2_e56f_11e9_90dd_acde48001122row2_col7\" class=\"data row2 col7\" >0.297</td>\n",
       "                        <td id=\"T_ebe65cc2_e56f_11e9_90dd_acde48001122row2_col8\" class=\"data row2 col8\" >0.373</td>\n",
       "            </tr>\n",
       "            <tr>\n",
       "                        <th id=\"T_ebe65cc2_e56f_11e9_90dd_acde48001122level0_row3\" class=\"row_heading level0 row3\" >previous</th>\n",
       "                        <td id=\"T_ebe65cc2_e56f_11e9_90dd_acde48001122row3_col0\" class=\"data row3 col0\" >0.0244</td>\n",
       "                        <td id=\"T_ebe65cc2_e56f_11e9_90dd_acde48001122row3_col1\" class=\"data row3 col1\" >-0.0791</td>\n",
       "                        <td id=\"T_ebe65cc2_e56f_11e9_90dd_acde48001122row3_col2\" class=\"data row3 col2\" >-0.588</td>\n",
       "                        <td id=\"T_ebe65cc2_e56f_11e9_90dd_acde48001122row3_col3\" class=\"data row3 col3\" >1</td>\n",
       "                        <td id=\"T_ebe65cc2_e56f_11e9_90dd_acde48001122row3_col4\" class=\"data row3 col4\" >-0.42</td>\n",
       "                        <td id=\"T_ebe65cc2_e56f_11e9_90dd_acde48001122row3_col5\" class=\"data row3 col5\" >-0.203</td>\n",
       "                        <td id=\"T_ebe65cc2_e56f_11e9_90dd_acde48001122row3_col6\" class=\"data row3 col6\" >-0.0509</td>\n",
       "                        <td id=\"T_ebe65cc2_e56f_11e9_90dd_acde48001122row3_col7\" class=\"data row3 col7\" >-0.454</td>\n",
       "                        <td id=\"T_ebe65cc2_e56f_11e9_90dd_acde48001122row3_col8\" class=\"data row3 col8\" >-0.501</td>\n",
       "            </tr>\n",
       "            <tr>\n",
       "                        <th id=\"T_ebe65cc2_e56f_11e9_90dd_acde48001122level0_row4\" class=\"row_heading level0 row4\" >emp.var.rate</th>\n",
       "                        <td id=\"T_ebe65cc2_e56f_11e9_90dd_acde48001122row4_col0\" class=\"data row4 col0\" >-0.000371</td>\n",
       "                        <td id=\"T_ebe65cc2_e56f_11e9_90dd_acde48001122row4_col1\" class=\"data row4 col1\" >0.151</td>\n",
       "                        <td id=\"T_ebe65cc2_e56f_11e9_90dd_acde48001122row4_col2\" class=\"data row4 col2\" >0.271</td>\n",
       "                        <td id=\"T_ebe65cc2_e56f_11e9_90dd_acde48001122row4_col3\" class=\"data row4 col3\" >-0.42</td>\n",
       "                        <td id=\"T_ebe65cc2_e56f_11e9_90dd_acde48001122row4_col4\" class=\"data row4 col4\" >1</td>\n",
       "                        <td id=\"T_ebe65cc2_e56f_11e9_90dd_acde48001122row4_col5\" class=\"data row4 col5\" >0.775</td>\n",
       "                        <td id=\"T_ebe65cc2_e56f_11e9_90dd_acde48001122row4_col6\" class=\"data row4 col6\" >0.196</td>\n",
       "                        <td id=\"T_ebe65cc2_e56f_11e9_90dd_acde48001122row4_col7\" class=\"data row4 col7\" >0.972</td>\n",
       "                        <td id=\"T_ebe65cc2_e56f_11e9_90dd_acde48001122row4_col8\" class=\"data row4 col8\" >0.907</td>\n",
       "            </tr>\n",
       "            <tr>\n",
       "                        <th id=\"T_ebe65cc2_e56f_11e9_90dd_acde48001122level0_row5\" class=\"row_heading level0 row5\" >cons.price.idx</th>\n",
       "                        <td id=\"T_ebe65cc2_e56f_11e9_90dd_acde48001122row5_col0\" class=\"data row5 col0\" >0.000857</td>\n",
       "                        <td id=\"T_ebe65cc2_e56f_11e9_90dd_acde48001122row5_col1\" class=\"data row5 col1\" >0.128</td>\n",
       "                        <td id=\"T_ebe65cc2_e56f_11e9_90dd_acde48001122row5_col2\" class=\"data row5 col2\" >0.0789</td>\n",
       "                        <td id=\"T_ebe65cc2_e56f_11e9_90dd_acde48001122row5_col3\" class=\"data row5 col3\" >-0.203</td>\n",
       "                        <td id=\"T_ebe65cc2_e56f_11e9_90dd_acde48001122row5_col4\" class=\"data row5 col4\" >0.775</td>\n",
       "                        <td id=\"T_ebe65cc2_e56f_11e9_90dd_acde48001122row5_col5\" class=\"data row5 col5\" >1</td>\n",
       "                        <td id=\"T_ebe65cc2_e56f_11e9_90dd_acde48001122row5_col6\" class=\"data row5 col6\" >0.059</td>\n",
       "                        <td id=\"T_ebe65cc2_e56f_11e9_90dd_acde48001122row5_col7\" class=\"data row5 col7\" >0.688</td>\n",
       "                        <td id=\"T_ebe65cc2_e56f_11e9_90dd_acde48001122row5_col8\" class=\"data row5 col8\" >0.522</td>\n",
       "            </tr>\n",
       "            <tr>\n",
       "                        <th id=\"T_ebe65cc2_e56f_11e9_90dd_acde48001122level0_row6\" class=\"row_heading level0 row6\" >cons.conf.idx</th>\n",
       "                        <td id=\"T_ebe65cc2_e56f_11e9_90dd_acde48001122row6_col0\" class=\"data row6 col0\" >0.129</td>\n",
       "                        <td id=\"T_ebe65cc2_e56f_11e9_90dd_acde48001122row6_col1\" class=\"data row6 col1\" >-0.0137</td>\n",
       "                        <td id=\"T_ebe65cc2_e56f_11e9_90dd_acde48001122row6_col2\" class=\"data row6 col2\" >-0.0913</td>\n",
       "                        <td id=\"T_ebe65cc2_e56f_11e9_90dd_acde48001122row6_col3\" class=\"data row6 col3\" >-0.0509</td>\n",
       "                        <td id=\"T_ebe65cc2_e56f_11e9_90dd_acde48001122row6_col4\" class=\"data row6 col4\" >0.196</td>\n",
       "                        <td id=\"T_ebe65cc2_e56f_11e9_90dd_acde48001122row6_col5\" class=\"data row6 col5\" >0.059</td>\n",
       "                        <td id=\"T_ebe65cc2_e56f_11e9_90dd_acde48001122row6_col6\" class=\"data row6 col6\" >1</td>\n",
       "                        <td id=\"T_ebe65cc2_e56f_11e9_90dd_acde48001122row6_col7\" class=\"data row6 col7\" >0.278</td>\n",
       "                        <td id=\"T_ebe65cc2_e56f_11e9_90dd_acde48001122row6_col8\" class=\"data row6 col8\" >0.101</td>\n",
       "            </tr>\n",
       "            <tr>\n",
       "                        <th id=\"T_ebe65cc2_e56f_11e9_90dd_acde48001122level0_row7\" class=\"row_heading level0 row7\" >euribor3m</th>\n",
       "                        <td id=\"T_ebe65cc2_e56f_11e9_90dd_acde48001122row7_col0\" class=\"data row7 col0\" >0.0108</td>\n",
       "                        <td id=\"T_ebe65cc2_e56f_11e9_90dd_acde48001122row7_col1\" class=\"data row7 col1\" >0.135</td>\n",
       "                        <td id=\"T_ebe65cc2_e56f_11e9_90dd_acde48001122row7_col2\" class=\"data row7 col2\" >0.297</td>\n",
       "                        <td id=\"T_ebe65cc2_e56f_11e9_90dd_acde48001122row7_col3\" class=\"data row7 col3\" >-0.454</td>\n",
       "                        <td id=\"T_ebe65cc2_e56f_11e9_90dd_acde48001122row7_col4\" class=\"data row7 col4\" >0.972</td>\n",
       "                        <td id=\"T_ebe65cc2_e56f_11e9_90dd_acde48001122row7_col5\" class=\"data row7 col5\" >0.688</td>\n",
       "                        <td id=\"T_ebe65cc2_e56f_11e9_90dd_acde48001122row7_col6\" class=\"data row7 col6\" >0.278</td>\n",
       "                        <td id=\"T_ebe65cc2_e56f_11e9_90dd_acde48001122row7_col7\" class=\"data row7 col7\" >1</td>\n",
       "                        <td id=\"T_ebe65cc2_e56f_11e9_90dd_acde48001122row7_col8\" class=\"data row7 col8\" >0.945</td>\n",
       "            </tr>\n",
       "            <tr>\n",
       "                        <th id=\"T_ebe65cc2_e56f_11e9_90dd_acde48001122level0_row8\" class=\"row_heading level0 row8\" >nr.employed</th>\n",
       "                        <td id=\"T_ebe65cc2_e56f_11e9_90dd_acde48001122row8_col0\" class=\"data row8 col0\" >-0.0177</td>\n",
       "                        <td id=\"T_ebe65cc2_e56f_11e9_90dd_acde48001122row8_col1\" class=\"data row8 col1\" >0.144</td>\n",
       "                        <td id=\"T_ebe65cc2_e56f_11e9_90dd_acde48001122row8_col2\" class=\"data row8 col2\" >0.373</td>\n",
       "                        <td id=\"T_ebe65cc2_e56f_11e9_90dd_acde48001122row8_col3\" class=\"data row8 col3\" >-0.501</td>\n",
       "                        <td id=\"T_ebe65cc2_e56f_11e9_90dd_acde48001122row8_col4\" class=\"data row8 col4\" >0.907</td>\n",
       "                        <td id=\"T_ebe65cc2_e56f_11e9_90dd_acde48001122row8_col5\" class=\"data row8 col5\" >0.522</td>\n",
       "                        <td id=\"T_ebe65cc2_e56f_11e9_90dd_acde48001122row8_col6\" class=\"data row8 col6\" >0.101</td>\n",
       "                        <td id=\"T_ebe65cc2_e56f_11e9_90dd_acde48001122row8_col7\" class=\"data row8 col7\" >0.945</td>\n",
       "                        <td id=\"T_ebe65cc2_e56f_11e9_90dd_acde48001122row8_col8\" class=\"data row8 col8\" >1</td>\n",
       "            </tr>\n",
       "    </tbody></table>"
      ],
      "text/plain": [
       "<pandas.io.formats.style.Styler at 0x7fa3c8a84d30>"
      ]
     },
     "execution_count": 9,
     "metadata": {},
     "output_type": "execute_result"
    }
   ],
   "source": [
    "corr = df.corr()\n",
    "corr.style.background_gradient(cmap='coolwarm').set_precision(3)"
   ]
  },
  {
   "cell_type": "markdown",
   "metadata": {},
   "source": [
    "Based on previous observation from statistics and graph, clean the data:<br>\n",
    "-remove \"default\" feature<br>\n",
    "-try deleting any observation with 'unknown' in columns (and see how much data is left)<br>\n",
    "-data resampling(rebalancing)<br>"
   ]
  },
  {
   "cell_type": "markdown",
   "metadata": {},
   "source": [
    "# Data Preparation"
   ]
  },
  {
   "cell_type": "code",
   "execution_count": 10,
   "metadata": {},
   "outputs": [
    {
     "name": "stderr",
     "output_type": "stream",
     "text": [
      "/anaconda3/lib/python3.7/site-packages/ipykernel_launcher.py:2: SettingWithCopyWarning: \n",
      "A value is trying to be set on a copy of a slice from a DataFrame\n",
      "\n",
      "See the caveats in the documentation: http://pandas.pydata.org/pandas-docs/stable/indexing.html#indexing-view-versus-copy\n",
      "  \n",
      "/anaconda3/lib/python3.7/site-packages/ipykernel_launcher.py:3: SettingWithCopyWarning: \n",
      "A value is trying to be set on a copy of a slice from a DataFrame\n",
      "\n",
      "See the caveats in the documentation: http://pandas.pydata.org/pandas-docs/stable/indexing.html#indexing-view-versus-copy\n",
      "  This is separate from the ipykernel package so we can avoid doing imports until\n"
     ]
    }
   ],
   "source": [
    "#replacing the YES and NO with 1 and 0 into binomial column\n",
    "df.y[df.y == 'YES'] = 1\n",
    "df.y[df.y == 'NO'] = 0 \n",
    "classifications = ['1', '0']"
   ]
  },
  {
   "cell_type": "code",
   "execution_count": 11,
   "metadata": {},
   "outputs": [
    {
     "name": "stdout",
     "output_type": "stream",
     "text": [
      "New X:\n",
      "(41188, 18)\n",
      "   age        job  marital    education housing loan    contact month  \\\n",
      "0   56  housemaid  married     basic.4y      no   no  telephone   may   \n",
      "1   57   services  married  high.school      no   no  telephone   may   \n",
      "2   37   services  married  high.school     yes   no  telephone   may   \n",
      "3   40     admin.  married     basic.6y      no   no  telephone   may   \n",
      "4   56   services  married  high.school      no  yes  telephone   may   \n",
      "\n",
      "  day_of_week  campaign  pdays  previous     poutcome  emp.var.rate  \\\n",
      "0         mon         1    999         0  nonexistent           1.1   \n",
      "1         mon         1    999         0  nonexistent           1.1   \n",
      "2         mon         1    999         0  nonexistent           1.1   \n",
      "3         mon         1    999         0  nonexistent           1.1   \n",
      "4         mon         1    999         0  nonexistent           1.1   \n",
      "\n",
      "   cons.price.idx  cons.conf.idx  euribor3m  nr.employed  \n",
      "0          93.994          -36.4      4.857       5191.0  \n",
      "1          93.994          -36.4      4.857       5191.0  \n",
      "2          93.994          -36.4      4.857       5191.0  \n",
      "3          93.994          -36.4      4.857       5191.0  \n",
      "4          93.994          -36.4      4.857       5191.0  \n"
     ]
    }
   ],
   "source": [
    "#remove \"default\" column:\n",
    "if 'default' in X:\n",
    "    X = X.drop(['default'], axis=1)\n",
    "\n",
    "print(\"New X:\")\n",
    "print(X.shape)          #Now 18 indicators left\n",
    "print(X.head())"
   ]
  },
  {
   "cell_type": "code",
   "execution_count": 12,
   "metadata": {
    "scrolled": true
   },
   "outputs": [
    {
     "name": "stdout",
     "output_type": "stream",
     "text": [
      "Int64Index([    7,    10,    26,    29,    30,    31,    32,    35,    40,\n",
      "               67,\n",
      "            ...\n",
      "            41109, 41110, 41113, 41114, 41115, 41118, 41120, 41122, 41135,\n",
      "            41175],\n",
      "           dtype='int64', length=2943)\n"
     ]
    }
   ],
   "source": [
    "#try removing any row where there is 'unknown' in columns\n",
    "indices = X[(X['job']=='unknown') | (X['marital']=='unknown') | (X['education']=='unknown') | (X['housing']=='unknown') | (X['loan']=='unknown')].index\n",
    "print(indices)        #2943 observations would be removed (7.15% of original data)"
   ]
  },
  {
   "cell_type": "code",
   "execution_count": 13,
   "metadata": {
    "scrolled": true
   },
   "outputs": [
    {
     "name": "stdout",
     "output_type": "stream",
     "text": [
      "New X:\n",
      "(38245, 18)\n",
      "   age        job  marital    education housing loan    contact month  \\\n",
      "0   56  housemaid  married     basic.4y      no   no  telephone   may   \n",
      "1   57   services  married  high.school      no   no  telephone   may   \n",
      "2   37   services  married  high.school     yes   no  telephone   may   \n",
      "3   40     admin.  married     basic.6y      no   no  telephone   may   \n",
      "4   56   services  married  high.school      no  yes  telephone   may   \n",
      "\n",
      "  day_of_week  campaign  pdays  previous     poutcome  emp.var.rate  \\\n",
      "0         mon         1    999         0  nonexistent           1.1   \n",
      "1         mon         1    999         0  nonexistent           1.1   \n",
      "2         mon         1    999         0  nonexistent           1.1   \n",
      "3         mon         1    999         0  nonexistent           1.1   \n",
      "4         mon         1    999         0  nonexistent           1.1   \n",
      "\n",
      "   cons.price.idx  cons.conf.idx  euribor3m  nr.employed  \n",
      "0          93.994          -36.4      4.857       5191.0  \n",
      "1          93.994          -36.4      4.857       5191.0  \n",
      "2          93.994          -36.4      4.857       5191.0  \n",
      "3          93.994          -36.4      4.857       5191.0  \n",
      "4          93.994          -36.4      4.857       5191.0  \n",
      "\n",
      "New y:\n",
      "(38245,)\n",
      "0    no\n",
      "1    no\n",
      "2    no\n",
      "3    no\n",
      "4    no\n",
      "Name: y, dtype: object\n"
     ]
    }
   ],
   "source": [
    "#X = X.drop(indices, axis=0)     \n",
    "X = X.drop(index=indices)        #drop observations(from \"index\")\n",
    "#print(type(X))\n",
    "print(\"New X:\")\n",
    "print(X.shape)         #Now: 38245 observations left (92.85% amount of original data left, which is ok)\n",
    "print(X.head())\n",
    "print()\n",
    "\n",
    "y = y.drop(index=indices)\n",
    "print(\"New y:\")\n",
    "print(y.shape)\n",
    "print(y.head())"
   ]
  },
  {
   "cell_type": "code",
   "execution_count": 14,
   "metadata": {
    "scrolled": true
   },
   "outputs": [
    {
     "name": "stdout",
     "output_type": "stream",
     "text": [
      "The frequency of instances per class is:  {'no': 33987, 'yes': 4258}  where YES means the customer deposited, and NO means the customer did not deposit.\n",
      "The Percentages per class: No: 0.89; Yes: 0.11\n"
     ]
    },
    {
     "data": {
      "text/plain": [
       "Text(0.5, 1.0, 'Distribution of Target Variable')"
      ]
     },
     "execution_count": 14,
     "metadata": {},
     "output_type": "execute_result"
    },
    {
     "data": {
      "image/png": "[encoded data removed]",
      "text/plain": [
       "<Figure size 432x288 with 1 Axes>"
      ]
     },
     "metadata": {
      "needs_background": "light"
     },
     "output_type": "display_data"
    }
   ],
   "source": [
    "# Exploring Target Variable\n",
    "unique, counts = np.unique(y, return_counts=True) # 2 distinct classes relatively balanced\n",
    "print(\"The frequency of instances per class is: \" , dict(zip(unique, counts)), \" where YES means the customer deposited, and NO means the customer did not deposit.\")\n",
    "print(\"The Percentages per class:\", \"No: %.2f;\" % (counts[0]/(counts[0]+counts[1])), \"Yes: %.2f\" % (counts[1]/(counts[0]+counts[1])))\n",
    "sns.barplot(unique, counts)\n",
    "plt.title(\"Distribution of Target Variable\")"
   ]
  },
  {
   "cell_type": "markdown",
   "metadata": {},
   "source": [
    "Observation: after the above steps, the percentages of each class(\"NO\", \"YES\") have remained nearly the same -> Need resampling"
   ]
  },
  {
   "cell_type": "markdown",
   "metadata": {},
   "source": [
    "#### First, ENCODING All Categorical Variables (\"string\" format into numeric categorical variables) -- using LabelEncoder (not dummies variables here yet)"
   ]
  },
  {
   "cell_type": "code",
   "execution_count": 15,
   "metadata": {},
   "outputs": [
    {
     "name": "stdout",
     "output_type": "stream",
     "text": [
      "Categories for 'job' now: ['housemaid' 'services' 'admin.' 'technician' 'blue-collar' 'retired'\n",
      " 'management' 'unemployed' 'self-employed' 'entrepreneur' 'student']\n",
      "Number of Categories for 'job' now: 11\n",
      "\n",
      "Corresponding Encodings Display:\n",
      "[ 3  7  7  0  7  7  0  9  7  7  1  3  1  5  1  1  1  4 10  1  5  9  0  9\n",
      "  6  9  4  1  7  9  0  9  2  0  0  0  9  0  1  0  1  0  3  0  0  1  9  4\n",
      "  7 10]\n",
      "['housemaid' 'services' 'services' 'admin.' 'services' 'services' 'admin.'\n",
      " 'technician' 'services' 'services' 'blue-collar' 'housemaid'\n",
      " 'blue-collar' 'retired' 'blue-collar' 'blue-collar' 'blue-collar'\n",
      " 'management' 'unemployed' 'blue-collar' 'retired' 'technician' 'admin.'\n",
      " 'technician' 'self-employed' 'technician' 'management' 'blue-collar'\n",
      " 'services' 'technician' 'admin.' 'technician' 'entrepreneur' 'admin.'\n",
      " 'admin.' 'admin.' 'technician' 'admin.' 'blue-collar' 'admin.'\n",
      " 'blue-collar' 'admin.' 'housemaid' 'admin.' 'admin.' 'blue-collar'\n",
      " 'technician' 'management' 'services' 'unemployed']\n"
     ]
    }
   ],
   "source": [
    "from sklearn.preprocessing import LabelEncoder\n",
    "\n",
    "print(\"Categories for 'job' now:\", X['job'].unique())\n",
    "print(\"Number of Categories for 'job' now:\", len(X['job'].unique()))\n",
    "\n",
    "lab_encoder = LabelEncoder()\n",
    "job_encoded = lab_encoder.fit_transform(X['job'])\n",
    "print(\"\\nCorresponding Encodings Display:\")\n",
    "print(job_encoded[:50])\n",
    "print(lab_encoder.inverse_transform(job_encoded[:50]))\n",
    "X['job_encoded'] = job_encoded\n",
    "#Observation: encoding: '0': 'admin.'; '1': 'blue=collar'; '2': 'entrepreneur'; '3': 'housemaid'; '4': 'management'; \n",
    "# '5': 'retired'; 6': 'self-employed'; '7': 'services'; '8': 'student'; '9': 'technician'; '10': 'unemployed' "
   ]
  },
  {
   "cell_type": "code",
   "execution_count": 16,
   "metadata": {},
   "outputs": [
    {
     "name": "stdout",
     "output_type": "stream",
     "text": [
      "Categories for 'marital' now: ['married' 'single' 'divorced']\n",
      "Number of Categories for 'marital' now: 3\n",
      "\n",
      "Corresponding Encodings Display:\n",
      "[1 1 1 1 1 1 1 2 2 2 2 0 1 1 1 1 1 2 1 1]\n",
      "['married' 'married' 'married' 'married' 'married' 'married' 'married'\n",
      " 'single' 'single' 'single' 'single' 'divorced' 'married' 'married'\n",
      " 'married' 'married' 'married' 'single' 'married' 'married']\n"
     ]
    }
   ],
   "source": [
    "print(\"Categories for 'marital' now:\", X['marital'].unique())\n",
    "print(\"Number of Categories for 'marital' now:\", len(X['marital'].unique()))\n",
    "\n",
    "lab_encoder = LabelEncoder()\n",
    "marital_encoded = lab_encoder.fit_transform(X['marital'])\n",
    "print(\"\\nCorresponding Encodings Display:\")\n",
    "print(marital_encoded[:20])\n",
    "print(lab_encoder.inverse_transform(marital_encoded[:20]))\n",
    "X['marital_encoded'] = marital_encoded\n",
    "#Observation: encoding: '0': 'divorced'; '1': 'married'; '2': 'single'"
   ]
  },
  {
   "cell_type": "code",
   "execution_count": 17,
   "metadata": {},
   "outputs": [
    {
     "name": "stdout",
     "output_type": "stream",
     "text": [
      "Categories for 'education' now: ['basic.4y' 'high.school' 'basic.6y' 'basic.9y' 'professional.course'\n",
      " 'university.degree' 'illiterate']\n",
      "Number of Categories for 'education' now: 7\n",
      "\n",
      "Corresponding Encodings Display:\n",
      "[0 3 3 1 3 2 5 5 3 3 3 0 1 2 1 1 2 2 3 0 3 3 3 6 2 6 0 0 3 2]\n",
      "['basic.4y' 'high.school' 'high.school' 'basic.6y' 'high.school'\n",
      " 'basic.9y' 'professional.course' 'professional.course' 'high.school'\n",
      " 'high.school' 'high.school' 'basic.4y' 'basic.6y' 'basic.9y' 'basic.6y'\n",
      " 'basic.6y' 'basic.9y' 'basic.9y' 'high.school' 'basic.4y' 'high.school'\n",
      " 'high.school' 'high.school' 'university.degree' 'basic.9y'\n",
      " 'university.degree' 'basic.4y' 'basic.4y' 'high.school' 'basic.9y']\n"
     ]
    }
   ],
   "source": [
    "print(\"Categories for 'education' now:\", X['education'].unique())\n",
    "print(\"Number of Categories for 'education' now:\", len(X['education'].unique()))\n",
    "\n",
    "lab_encoder = LabelEncoder()\n",
    "education_encoded = lab_encoder.fit_transform(X['education'])\n",
    "print(\"\\nCorresponding Encodings Display:\")\n",
    "print(education_encoded[:30])\n",
    "print(lab_encoder.inverse_transform(education_encoded[:30]))\n",
    "X['education_encoded'] = education_encoded\n",
    "#Observation: encoding: '0': 'basic.4y'; '1': 'basic.6y'; '2': 'basic.9y'; '3': 'high.school'; '4': 'illiterate'; 5': 'professional.course'; '6': 'university.degree'"
   ]
  },
  {
   "cell_type": "code",
   "execution_count": 18,
   "metadata": {
    "scrolled": true
   },
   "outputs": [
    {
     "name": "stdout",
     "output_type": "stream",
     "text": [
      "Categories for 'housing' now: ['no' 'yes']\n",
      "Number of Categories for 'education' now: 2\n",
      "\n",
      "Corresponding Encodings Display:\n",
      "[0 0 1 0 0 0 0 1 1 1 0 1 1 1 1 1 1 0 0 1 1 1 1 0 0 0 1 0 0 1]\n",
      "['no' 'no' 'yes' 'no' 'no' 'no' 'no' 'yes' 'yes' 'yes' 'no' 'yes' 'yes'\n",
      " 'yes' 'yes' 'yes' 'yes' 'no' 'no' 'yes' 'yes' 'yes' 'yes' 'no' 'no' 'no'\n",
      " 'yes' 'no' 'no' 'yes']\n"
     ]
    }
   ],
   "source": [
    "print(\"Categories for 'housing' now:\", X['housing'].unique())\n",
    "print(\"Number of Categories for 'education' now:\", len(X['housing'].unique()))\n",
    "\n",
    "lab_encoder = LabelEncoder()\n",
    "housing_encoded = lab_encoder.fit_transform(X['housing'])\n",
    "print(\"\\nCorresponding Encodings Display:\")\n",
    "print(housing_encoded[:30])\n",
    "print(lab_encoder.inverse_transform(housing_encoded[:30]))\n",
    "X['housing_encoded'] = housing_encoded\n",
    "#Observation: Binary variable \"housing_encoded\": '0': 'no'; '1': 'yes'"
   ]
  },
  {
   "cell_type": "code",
   "execution_count": 19,
   "metadata": {},
   "outputs": [
    {
     "name": "stdout",
     "output_type": "stream",
     "text": [
      "Categories for 'loan' now: ['no' 'yes']\n",
      "Number of Categories for 'loan' now: 2\n",
      "\n",
      "Corresponding Encodings Display:\n",
      "[0 0 0 0 1 0 0 0 0 0 1 0 0 1 0 1 1 0 0 0 0 0 0 1 0 0 0 0 0 0]\n",
      "['no' 'no' 'no' 'no' 'yes' 'no' 'no' 'no' 'no' 'no' 'yes' 'no' 'no' 'yes'\n",
      " 'no' 'yes' 'yes' 'no' 'no' 'no' 'no' 'no' 'no' 'yes' 'no' 'no' 'no' 'no'\n",
      " 'no' 'no']\n"
     ]
    }
   ],
   "source": [
    "print(\"Categories for 'loan' now:\", X['loan'].unique())\n",
    "print(\"Number of Categories for 'loan' now:\", len(X['loan'].unique()))\n",
    "\n",
    "lab_encoder = LabelEncoder()\n",
    "loan_encoded = lab_encoder.fit_transform(X['loan'])\n",
    "print(\"\\nCorresponding Encodings Display:\")\n",
    "print(loan_encoded[:30])\n",
    "print(lab_encoder.inverse_transform(loan_encoded[:30]))\n",
    "X['loan_encoded'] = loan_encoded\n",
    "#Observation: Binary variable \"loan_encoded\": '0': 'no'; '1': 'yes'"
   ]
  },
  {
   "cell_type": "code",
   "execution_count": 20,
   "metadata": {
    "scrolled": true
   },
   "outputs": [
    {
     "name": "stdout",
     "output_type": "stream",
     "text": [
      "Categories for 'contact' now: ['telephone' 'cellular']\n",
      "Number of Categories for 'contact' now: 2\n",
      "\n",
      "Corresponding Encodings Display:\n",
      "[1 1 1 1 1 1 1 1 1 1]\n",
      "['telephone' 'telephone' 'telephone' 'telephone' 'telephone' 'telephone'\n",
      " 'telephone' 'telephone' 'telephone' 'telephone']\n"
     ]
    }
   ],
   "source": [
    "print(\"Categories for 'contact' now:\", X['contact'].unique())\n",
    "print(\"Number of Categories for 'contact' now:\", len(X['contact'].unique()))\n",
    "\n",
    "lab_encoder = LabelEncoder()\n",
    "contact_encoded = lab_encoder.fit_transform(X['contact'])\n",
    "print(\"\\nCorresponding Encodings Display:\")\n",
    "print(contact_encoded[:10])\n",
    "print(lab_encoder.inverse_transform(contact_encoded[:10]))\n",
    "X['contact_encoded'] = contact_encoded\n",
    "#Observation: encoding: '0': 'cellular'; '1': 'telephone'"
   ]
  },
  {
   "cell_type": "code",
   "execution_count": 21,
   "metadata": {
    "scrolled": true
   },
   "outputs": [
    {
     "name": "stdout",
     "output_type": "stream",
     "text": [
      "Categories for 'month' now: ['may' 'jun' 'jul' 'aug' 'oct' 'nov' 'dec' 'mar' 'apr' 'sep']\n",
      "Number of Categories for 'month' now: 10\n",
      "\n",
      "Corresponding Encodings Display:\n",
      "[6 6 6 6 6 6 6 6 6 6]\n",
      "['may' 'may' 'may' 'may' 'may' 'may' 'may' 'may' 'may' 'may']\n"
     ]
    }
   ],
   "source": [
    "print(\"Categories for 'month' now:\", X['month'].unique())\n",
    "print(\"Number of Categories for 'month' now:\", len(X['month'].unique()))\n",
    "\n",
    "lab_encoder = LabelEncoder()\n",
    "month_encoded = lab_encoder.fit_transform(X['month'])\n",
    "print(\"\\nCorresponding Encodings Display:\")\n",
    "print(month_encoded[:10])\n",
    "print(lab_encoder.inverse_transform(month_encoded[:10]))\n",
    "X['month_encoded'] = month_encoded\n",
    "#Observation: encoding: '0': 'apr'; '1': 'aug'; '2': 'dec'; '3': 'jul'; '4': 'jun'; '5': 'mar'; '6': 'may'; '7': 'nov'; '8': 'oct'; '9': 'sep'"
   ]
  },
  {
   "cell_type": "code",
   "execution_count": 22,
   "metadata": {
    "scrolled": true
   },
   "outputs": [
    {
     "name": "stdout",
     "output_type": "stream",
     "text": [
      "Categories for 'day_of_week' now: ['mon' 'tue' 'wed' 'thu' 'fri']\n",
      "Number of Categories for 'day_of_week' now: 5\n",
      "\n",
      "Corresponding Encodings Display:\n",
      "[1 1 1 1 1 1 1 1 1 1]\n",
      "['mon' 'mon' 'mon' 'mon' 'mon' 'mon' 'mon' 'mon' 'mon' 'mon']\n"
     ]
    }
   ],
   "source": [
    "print(\"Categories for 'day_of_week' now:\", X['day_of_week'].unique())\n",
    "print(\"Number of Categories for 'day_of_week' now:\", len(X['day_of_week'].unique()))\n",
    "\n",
    "lab_encoder = LabelEncoder()\n",
    "dayofweek_encoded = lab_encoder.fit_transform(X['day_of_week'])\n",
    "print(\"\\nCorresponding Encodings Display:\")\n",
    "print(dayofweek_encoded[:10])\n",
    "print(lab_encoder.inverse_transform(dayofweek_encoded[:10]))\n",
    "X['dayofweek_encoded'] = dayofweek_encoded\n",
    "#Observation: encoding: '0': 'fri'; '1': 'mon'; '2': 'thu'; '3': 'tue'; '4': 'wed'"
   ]
  },
  {
   "cell_type": "code",
   "execution_count": 23,
   "metadata": {
    "scrolled": true
   },
   "outputs": [
    {
     "name": "stdout",
     "output_type": "stream",
     "text": [
      "Categories for 'poutcome' now: ['nonexistent' 'failure' 'success']\n",
      "Number of Categories for 'poutcome' now: 3\n",
      "\n",
      "Corresponding Encodings Display:\n",
      "[1 1 1 1 1 1 1 1 1 1]\n",
      "['nonexistent' 'nonexistent' 'nonexistent' 'nonexistent' 'nonexistent'\n",
      " 'nonexistent' 'nonexistent' 'nonexistent' 'nonexistent' 'nonexistent']\n"
     ]
    }
   ],
   "source": [
    "print(\"Categories for 'poutcome' now:\", X['poutcome'].unique())\n",
    "print(\"Number of Categories for 'poutcome' now:\", len(X['poutcome'].unique()))\n",
    "\n",
    "lab_encoder = LabelEncoder()\n",
    "poutcome_encoded = lab_encoder.fit_transform(X['poutcome'])\n",
    "print(\"\\nCorresponding Encodings Display:\")\n",
    "print(poutcome_encoded[:10])\n",
    "print(lab_encoder.inverse_transform(poutcome_encoded[:10]))\n",
    "X['poutcome_encoded'] = poutcome_encoded\n",
    "#Observation: encoding: '0': 'failure'; '1': 'nonexistent'; '2': 'success'"
   ]
  },
  {
   "cell_type": "code",
   "execution_count": 24,
   "metadata": {
    "scrolled": true
   },
   "outputs": [
    {
     "data": {
      "text/html": [
       "<div>\n",
       "<style scoped>\n",
       "    .dataframe tbody tr th:only-of-type {\n",
       "        vertical-align: middle;\n",
       "    }\n",
       "\n",
       "    .dataframe tbody tr th {\n",
       "        vertical-align: top;\n",
       "    }\n",
       "\n",
       "    .dataframe thead th {\n",
       "        text-align: right;\n",
       "    }\n",
       "</style>\n",
       "<table border=\"1\" class=\"dataframe\">\n",
       "  <thead>\n",
       "    <tr style=\"text-align: right;\">\n",
       "      <th></th>\n",
       "      <th>age</th>\n",
       "      <th>job</th>\n",
       "      <th>marital</th>\n",
       "      <th>education</th>\n",
       "      <th>housing</th>\n",
       "      <th>loan</th>\n",
       "      <th>contact</th>\n",
       "      <th>month</th>\n",
       "      <th>day_of_week</th>\n",
       "      <th>campaign</th>\n",
       "      <th>...</th>\n",
       "      <th>nr.employed</th>\n",
       "      <th>job_encoded</th>\n",
       "      <th>marital_encoded</th>\n",
       "      <th>education_encoded</th>\n",
       "      <th>housing_encoded</th>\n",
       "      <th>loan_encoded</th>\n",
       "      <th>contact_encoded</th>\n",
       "      <th>month_encoded</th>\n",
       "      <th>dayofweek_encoded</th>\n",
       "      <th>poutcome_encoded</th>\n",
       "    </tr>\n",
       "  </thead>\n",
       "  <tbody>\n",
       "    <tr>\n",
       "      <th>0</th>\n",
       "      <td>56</td>\n",
       "      <td>housemaid</td>\n",
       "      <td>married</td>\n",
       "      <td>basic.4y</td>\n",
       "      <td>no</td>\n",
       "      <td>no</td>\n",
       "      <td>telephone</td>\n",
       "      <td>may</td>\n",
       "      <td>mon</td>\n",
       "      <td>1</td>\n",
       "      <td>...</td>\n",
       "      <td>5191.0</td>\n",
       "      <td>3</td>\n",
       "      <td>1</td>\n",
       "      <td>0</td>\n",
       "      <td>0</td>\n",
       "      <td>0</td>\n",
       "      <td>1</td>\n",
       "      <td>6</td>\n",
       "      <td>1</td>\n",
       "      <td>1</td>\n",
       "    </tr>\n",
       "    <tr>\n",
       "      <th>1</th>\n",
       "      <td>57</td>\n",
       "      <td>services</td>\n",
       "      <td>married</td>\n",
       "      <td>high.school</td>\n",
       "      <td>no</td>\n",
       "      <td>no</td>\n",
       "      <td>telephone</td>\n",
       "      <td>may</td>\n",
       "      <td>mon</td>\n",
       "      <td>1</td>\n",
       "      <td>...</td>\n",
       "      <td>5191.0</td>\n",
       "      <td>7</td>\n",
       "      <td>1</td>\n",
       "      <td>3</td>\n",
       "      <td>0</td>\n",
       "      <td>0</td>\n",
       "      <td>1</td>\n",
       "      <td>6</td>\n",
       "      <td>1</td>\n",
       "      <td>1</td>\n",
       "    </tr>\n",
       "    <tr>\n",
       "      <th>2</th>\n",
       "      <td>37</td>\n",
       "      <td>services</td>\n",
       "      <td>married</td>\n",
       "      <td>high.school</td>\n",
       "      <td>yes</td>\n",
       "      <td>no</td>\n",
       "      <td>telephone</td>\n",
       "      <td>may</td>\n",
       "      <td>mon</td>\n",
       "      <td>1</td>\n",
       "      <td>...</td>\n",
       "      <td>5191.0</td>\n",
       "      <td>7</td>\n",
       "      <td>1</td>\n",
       "      <td>3</td>\n",
       "      <td>1</td>\n",
       "      <td>0</td>\n",
       "      <td>1</td>\n",
       "      <td>6</td>\n",
       "      <td>1</td>\n",
       "      <td>1</td>\n",
       "    </tr>\n",
       "    <tr>\n",
       "      <th>3</th>\n",
       "      <td>40</td>\n",
       "      <td>admin.</td>\n",
       "      <td>married</td>\n",
       "      <td>basic.6y</td>\n",
       "      <td>no</td>\n",
       "      <td>no</td>\n",
       "      <td>telephone</td>\n",
       "      <td>may</td>\n",
       "      <td>mon</td>\n",
       "      <td>1</td>\n",
       "      <td>...</td>\n",
       "      <td>5191.0</td>\n",
       "      <td>0</td>\n",
       "      <td>1</td>\n",
       "      <td>1</td>\n",
       "      <td>0</td>\n",
       "      <td>0</td>\n",
       "      <td>1</td>\n",
       "      <td>6</td>\n",
       "      <td>1</td>\n",
       "      <td>1</td>\n",
       "    </tr>\n",
       "    <tr>\n",
       "      <th>4</th>\n",
       "      <td>56</td>\n",
       "      <td>services</td>\n",
       "      <td>married</td>\n",
       "      <td>high.school</td>\n",
       "      <td>no</td>\n",
       "      <td>yes</td>\n",
       "      <td>telephone</td>\n",
       "      <td>may</td>\n",
       "      <td>mon</td>\n",
       "      <td>1</td>\n",
       "      <td>...</td>\n",
       "      <td>5191.0</td>\n",
       "      <td>7</td>\n",
       "      <td>1</td>\n",
       "      <td>3</td>\n",
       "      <td>0</td>\n",
       "      <td>1</td>\n",
       "      <td>1</td>\n",
       "      <td>6</td>\n",
       "      <td>1</td>\n",
       "      <td>1</td>\n",
       "    </tr>\n",
       "  </tbody>\n",
       "</table>\n",
       "<p>5 rows × 27 columns</p>\n",
       "</div>"
      ],
      "text/plain": [
       "   age        job  marital    education housing loan    contact month  \\\n",
       "0   56  housemaid  married     basic.4y      no   no  telephone   may   \n",
       "1   57   services  married  high.school      no   no  telephone   may   \n",
       "2   37   services  married  high.school     yes   no  telephone   may   \n",
       "3   40     admin.  married     basic.6y      no   no  telephone   may   \n",
       "4   56   services  married  high.school      no  yes  telephone   may   \n",
       "\n",
       "  day_of_week  campaign  ...  nr.employed  job_encoded marital_encoded  \\\n",
       "0         mon         1  ...       5191.0            3               1   \n",
       "1         mon         1  ...       5191.0            7               1   \n",
       "2         mon         1  ...       5191.0            7               1   \n",
       "3         mon         1  ...       5191.0            0               1   \n",
       "4         mon         1  ...       5191.0            7               1   \n",
       "\n",
       "   education_encoded  housing_encoded  loan_encoded  contact_encoded  \\\n",
       "0                  0                0             0                1   \n",
       "1                  3                0             0                1   \n",
       "2                  3                1             0                1   \n",
       "3                  1                0             0                1   \n",
       "4                  3                0             1                1   \n",
       "\n",
       "   month_encoded  dayofweek_encoded  poutcome_encoded  \n",
       "0              6                  1                 1  \n",
       "1              6                  1                 1  \n",
       "2              6                  1                 1  \n",
       "3              6                  1                 1  \n",
       "4              6                  1                 1  \n",
       "\n",
       "[5 rows x 27 columns]"
      ]
     },
     "execution_count": 24,
     "metadata": {},
     "output_type": "execute_result"
    }
   ],
   "source": [
    "X.head()"
   ]
  },
  {
   "cell_type": "code",
   "execution_count": 25,
   "metadata": {
    "scrolled": true
   },
   "outputs": [
    {
     "name": "stdout",
     "output_type": "stream",
     "text": [
      "(38245, 18)\n"
     ]
    },
    {
     "data": {
      "text/html": [
       "<div>\n",
       "<style scoped>\n",
       "    .dataframe tbody tr th:only-of-type {\n",
       "        vertical-align: middle;\n",
       "    }\n",
       "\n",
       "    .dataframe tbody tr th {\n",
       "        vertical-align: top;\n",
       "    }\n",
       "\n",
       "    .dataframe thead th {\n",
       "        text-align: right;\n",
       "    }\n",
       "</style>\n",
       "<table border=\"1\" class=\"dataframe\">\n",
       "  <thead>\n",
       "    <tr style=\"text-align: right;\">\n",
       "      <th></th>\n",
       "      <th>age</th>\n",
       "      <th>campaign</th>\n",
       "      <th>pdays</th>\n",
       "      <th>previous</th>\n",
       "      <th>emp.var.rate</th>\n",
       "      <th>cons.price.idx</th>\n",
       "      <th>cons.conf.idx</th>\n",
       "      <th>euribor3m</th>\n",
       "      <th>nr.employed</th>\n",
       "      <th>job_encoded</th>\n",
       "      <th>marital_encoded</th>\n",
       "      <th>education_encoded</th>\n",
       "      <th>housing_encoded</th>\n",
       "      <th>loan_encoded</th>\n",
       "      <th>contact_encoded</th>\n",
       "      <th>month_encoded</th>\n",
       "      <th>dayofweek_encoded</th>\n",
       "      <th>poutcome_encoded</th>\n",
       "    </tr>\n",
       "  </thead>\n",
       "  <tbody>\n",
       "    <tr>\n",
       "      <th>0</th>\n",
       "      <td>56</td>\n",
       "      <td>1</td>\n",
       "      <td>999</td>\n",
       "      <td>0</td>\n",
       "      <td>1.1</td>\n",
       "      <td>93.994</td>\n",
       "      <td>-36.4</td>\n",
       "      <td>4.857</td>\n",
       "      <td>5191.0</td>\n",
       "      <td>3</td>\n",
       "      <td>1</td>\n",
       "      <td>0</td>\n",
       "      <td>0</td>\n",
       "      <td>0</td>\n",
       "      <td>1</td>\n",
       "      <td>6</td>\n",
       "      <td>1</td>\n",
       "      <td>1</td>\n",
       "    </tr>\n",
       "    <tr>\n",
       "      <th>1</th>\n",
       "      <td>57</td>\n",
       "      <td>1</td>\n",
       "      <td>999</td>\n",
       "      <td>0</td>\n",
       "      <td>1.1</td>\n",
       "      <td>93.994</td>\n",
       "      <td>-36.4</td>\n",
       "      <td>4.857</td>\n",
       "      <td>5191.0</td>\n",
       "      <td>7</td>\n",
       "      <td>1</td>\n",
       "      <td>3</td>\n",
       "      <td>0</td>\n",
       "      <td>0</td>\n",
       "      <td>1</td>\n",
       "      <td>6</td>\n",
       "      <td>1</td>\n",
       "      <td>1</td>\n",
       "    </tr>\n",
       "    <tr>\n",
       "      <th>2</th>\n",
       "      <td>37</td>\n",
       "      <td>1</td>\n",
       "      <td>999</td>\n",
       "      <td>0</td>\n",
       "      <td>1.1</td>\n",
       "      <td>93.994</td>\n",
       "      <td>-36.4</td>\n",
       "      <td>4.857</td>\n",
       "      <td>5191.0</td>\n",
       "      <td>7</td>\n",
       "      <td>1</td>\n",
       "      <td>3</td>\n",
       "      <td>1</td>\n",
       "      <td>0</td>\n",
       "      <td>1</td>\n",
       "      <td>6</td>\n",
       "      <td>1</td>\n",
       "      <td>1</td>\n",
       "    </tr>\n",
       "    <tr>\n",
       "      <th>3</th>\n",
       "      <td>40</td>\n",
       "      <td>1</td>\n",
       "      <td>999</td>\n",
       "      <td>0</td>\n",
       "      <td>1.1</td>\n",
       "      <td>93.994</td>\n",
       "      <td>-36.4</td>\n",
       "      <td>4.857</td>\n",
       "      <td>5191.0</td>\n",
       "      <td>0</td>\n",
       "      <td>1</td>\n",
       "      <td>1</td>\n",
       "      <td>0</td>\n",
       "      <td>0</td>\n",
       "      <td>1</td>\n",
       "      <td>6</td>\n",
       "      <td>1</td>\n",
       "      <td>1</td>\n",
       "    </tr>\n",
       "    <tr>\n",
       "      <th>4</th>\n",
       "      <td>56</td>\n",
       "      <td>1</td>\n",
       "      <td>999</td>\n",
       "      <td>0</td>\n",
       "      <td>1.1</td>\n",
       "      <td>93.994</td>\n",
       "      <td>-36.4</td>\n",
       "      <td>4.857</td>\n",
       "      <td>5191.0</td>\n",
       "      <td>7</td>\n",
       "      <td>1</td>\n",
       "      <td>3</td>\n",
       "      <td>0</td>\n",
       "      <td>1</td>\n",
       "      <td>1</td>\n",
       "      <td>6</td>\n",
       "      <td>1</td>\n",
       "      <td>1</td>\n",
       "    </tr>\n",
       "  </tbody>\n",
       "</table>\n",
       "</div>"
      ],
      "text/plain": [
       "   age  campaign  pdays  previous  emp.var.rate  cons.price.idx  \\\n",
       "0   56         1    999         0           1.1          93.994   \n",
       "1   57         1    999         0           1.1          93.994   \n",
       "2   37         1    999         0           1.1          93.994   \n",
       "3   40         1    999         0           1.1          93.994   \n",
       "4   56         1    999         0           1.1          93.994   \n",
       "\n",
       "   cons.conf.idx  euribor3m  nr.employed  job_encoded  marital_encoded  \\\n",
       "0          -36.4      4.857       5191.0            3                1   \n",
       "1          -36.4      4.857       5191.0            7                1   \n",
       "2          -36.4      4.857       5191.0            7                1   \n",
       "3          -36.4      4.857       5191.0            0                1   \n",
       "4          -36.4      4.857       5191.0            7                1   \n",
       "\n",
       "   education_encoded  housing_encoded  loan_encoded  contact_encoded  \\\n",
       "0                  0                0             0                1   \n",
       "1                  3                0             0                1   \n",
       "2                  3                1             0                1   \n",
       "3                  1                0             0                1   \n",
       "4                  3                0             1                1   \n",
       "\n",
       "   month_encoded  dayofweek_encoded  poutcome_encoded  \n",
       "0              6                  1                 1  \n",
       "1              6                  1                 1  \n",
       "2              6                  1                 1  \n",
       "3              6                  1                 1  \n",
       "4              6                  1                 1  "
      ]
     },
     "execution_count": 25,
     "metadata": {},
     "output_type": "execute_result"
    }
   ],
   "source": [
    "#re-retrieve the X variables (using the encoded categorical variables instead of in their string format)\n",
    "X_encoded = X[['age', 'campaign', 'pdays', 'previous', 'emp.var.rate', 'cons.price.idx', 'cons.conf.idx', 'euribor3m', 'nr.employed', \n",
    "      'job_encoded', 'marital_encoded', 'education_encoded', 'housing_encoded', 'loan_encoded',\n",
    "     'contact_encoded', 'month_encoded', \"dayofweek_encoded\", \"poutcome_encoded\"]]\n",
    "print(X_encoded.shape)\n",
    "X_encoded.head()"
   ]
  },
  {
   "cell_type": "code",
   "execution_count": 29,
   "metadata": {
    "scrolled": true
   },
   "outputs": [
    {
     "data": {
      "text/plain": [
       "(38245, 18)"
      ]
     },
     "execution_count": 29,
     "metadata": {},
     "output_type": "execute_result"
    }
   ],
   "source": [
    "X_encoded.shape"
   ]
  },
  {
   "cell_type": "code",
   "execution_count": 30,
   "metadata": {},
   "outputs": [
    {
     "data": {
      "text/plain": [
       "(38245,)"
      ]
     },
     "execution_count": 30,
     "metadata": {},
     "output_type": "execute_result"
    }
   ],
   "source": [
    "y.shape"
   ]
  },
  {
   "cell_type": "code",
   "execution_count": 31,
   "metadata": {},
   "outputs": [
    {
     "data": {
      "text/plain": [
       "0    no\n",
       "1    no\n",
       "2    no\n",
       "3    no\n",
       "4    no\n",
       "Name: y, dtype: object"
      ]
     },
     "execution_count": 31,
     "metadata": {},
     "output_type": "execute_result"
    }
   ],
   "source": [
    "y.head()"
   ]
  },
  {
   "cell_type": "markdown",
   "metadata": {},
   "source": [
    "##### Data Resampling (Oversampling)"
   ]
  },
  {
   "cell_type": "code",
   "execution_count": 32,
   "metadata": {},
   "outputs": [],
   "source": [
    "from sklearn.utils import resample"
   ]
  },
  {
   "cell_type": "code",
   "execution_count": 33,
   "metadata": {},
   "outputs": [
    {
     "name": "stdout",
     "output_type": "stream",
     "text": [
      "(33987, 18)\n",
      "(33987,)\n"
     ]
    }
   ],
   "source": [
    "X_oversampled, y_oversampled = resample(X_encoded[y=='yes'], y[y=='yes'],replace=True,n_samples=X_encoded[y=='no'].shape[0], random_state=42)\n",
    "\n",
    "print(X_oversampled.shape)      #upsampled \"yes\" class: also 33987 observations\n",
    "print(y_oversampled.shape)"
   ]
  },
  {
   "cell_type": "code",
   "execution_count": 34,
   "metadata": {},
   "outputs": [
    {
     "name": "stdout",
     "output_type": "stream",
     "text": [
      "(67974, 18)\n",
      "(67974,)\n"
     ]
    }
   ],
   "source": [
    "#after resampling, stack the original \"no\" target labelled class with the newly generated upsampled \"yes\" target class\n",
    "X_balance = np.vstack((X_encoded[y=='no'], X_oversampled))      #*****IMPORTANT DETAIL: \"hstack\" and \"vstack\" appropriately used based on DIFFERENT SHAPE of arrays\n",
    "y_balance = np.hstack((y[y=='no'], y_oversampled))\n",
    "\n",
    "print(X_balance.shape)\n",
    "print(y_balance.shape)"
   ]
  },
  {
   "cell_type": "code",
   "execution_count": 35,
   "metadata": {},
   "outputs": [
    {
     "name": "stdout",
     "output_type": "stream",
     "text": [
      "Balanced X:\n",
      "[[ 5.6000e+01  1.0000e+00  9.9900e+02  0.0000e+00  1.1000e+00  9.3994e+01\n",
      "  -3.6400e+01  4.8570e+00  5.1910e+03  3.0000e+00  1.0000e+00  0.0000e+00\n",
      "   0.0000e+00  0.0000e+00  1.0000e+00  6.0000e+00  1.0000e+00  1.0000e+00]\n",
      " [ 5.7000e+01  1.0000e+00  9.9900e+02  0.0000e+00  1.1000e+00  9.3994e+01\n",
      "  -3.6400e+01  4.8570e+00  5.1910e+03  7.0000e+00  1.0000e+00  3.0000e+00\n",
      "   0.0000e+00  0.0000e+00  1.0000e+00  6.0000e+00  1.0000e+00  1.0000e+00]\n",
      " [ 3.7000e+01  1.0000e+00  9.9900e+02  0.0000e+00  1.1000e+00  9.3994e+01\n",
      "  -3.6400e+01  4.8570e+00  5.1910e+03  7.0000e+00  1.0000e+00  3.0000e+00\n",
      "   1.0000e+00  0.0000e+00  1.0000e+00  6.0000e+00  1.0000e+00  1.0000e+00]\n",
      " [ 4.0000e+01  1.0000e+00  9.9900e+02  0.0000e+00  1.1000e+00  9.3994e+01\n",
      "  -3.6400e+01  4.8570e+00  5.1910e+03  0.0000e+00  1.0000e+00  1.0000e+00\n",
      "   0.0000e+00  0.0000e+00  1.0000e+00  6.0000e+00  1.0000e+00  1.0000e+00]\n",
      " [ 5.6000e+01  1.0000e+00  9.9900e+02  0.0000e+00  1.1000e+00  9.3994e+01\n",
      "  -3.6400e+01  4.8570e+00  5.1910e+03  7.0000e+00  1.0000e+00  3.0000e+00\n",
      "   0.0000e+00  1.0000e+00  1.0000e+00  6.0000e+00  1.0000e+00  1.0000e+00]\n",
      " [ 4.5000e+01  1.0000e+00  9.9900e+02  0.0000e+00  1.1000e+00  9.3994e+01\n",
      "  -3.6400e+01  4.8570e+00  5.1910e+03  7.0000e+00  1.0000e+00  2.0000e+00\n",
      "   0.0000e+00  0.0000e+00  1.0000e+00  6.0000e+00  1.0000e+00  1.0000e+00]\n",
      " [ 5.9000e+01  1.0000e+00  9.9900e+02  0.0000e+00  1.1000e+00  9.3994e+01\n",
      "  -3.6400e+01  4.8570e+00  5.1910e+03  0.0000e+00  1.0000e+00  5.0000e+00\n",
      "   0.0000e+00  0.0000e+00  1.0000e+00  6.0000e+00  1.0000e+00  1.0000e+00]\n",
      " [ 2.4000e+01  1.0000e+00  9.9900e+02  0.0000e+00  1.1000e+00  9.3994e+01\n",
      "  -3.6400e+01  4.8570e+00  5.1910e+03  9.0000e+00  2.0000e+00  5.0000e+00\n",
      "   1.0000e+00  0.0000e+00  1.0000e+00  6.0000e+00  1.0000e+00  1.0000e+00]\n",
      " [ 2.5000e+01  1.0000e+00  9.9900e+02  0.0000e+00  1.1000e+00  9.3994e+01\n",
      "  -3.6400e+01  4.8570e+00  5.1910e+03  7.0000e+00  2.0000e+00  3.0000e+00\n",
      "   1.0000e+00  0.0000e+00  1.0000e+00  6.0000e+00  1.0000e+00  1.0000e+00]\n",
      " [ 2.5000e+01  1.0000e+00  9.9900e+02  0.0000e+00  1.1000e+00  9.3994e+01\n",
      "  -3.6400e+01  4.8570e+00  5.1910e+03  7.0000e+00  2.0000e+00  3.0000e+00\n",
      "   1.0000e+00  0.0000e+00  1.0000e+00  6.0000e+00  1.0000e+00  1.0000e+00]]\n"
     ]
    }
   ],
   "source": [
    "print(\"Balanced X:\")\n",
    "print(X_balance[:10, :])"
   ]
  },
  {
   "cell_type": "code",
   "execution_count": 36,
   "metadata": {},
   "outputs": [
    {
     "name": "stdout",
     "output_type": "stream",
     "text": [
      "The frequency of instances per class is:  {'no': 33987, 'yes': 33987}  where YES means the customer deposited, and NO means the customer did not deposit.\n",
      "The Percentages per class: No: 0.50; Yes: 0.50\n"
     ]
    },
    {
     "data": {
      "text/plain": [
       "Text(0.5, 1.0, 'Distribution of Target Variable')"
      ]
     },
     "execution_count": 36,
     "metadata": {},
     "output_type": "execute_result"
    },
    {
     "data": {
      "image/png": "[encoded data removed]",
      "text/plain": [
       "<Figure size 432x288 with 1 Axes>"
      ]
     },
     "metadata": {
      "needs_background": "light"
     },
     "output_type": "display_data"
    }
   ],
   "source": [
    "#check the distribution of the binary target variable again after resampling(oversampling of minority class)\n",
    "unique, counts = np.unique(y_balance, return_counts=True) # 2 distinct classes relatively balanced\n",
    "print(\"The frequency of instances per class is: \" , dict(zip(unique, counts)), \" where YES means the customer deposited, and NO means the customer did not deposit.\")\n",
    "print(\"The Percentages per class:\", \"No: %.2f;\" % (counts[0]/(counts[0]+counts[1])), \"Yes: %.2f\" % (counts[1]/(counts[0]+counts[1])))\n",
    "sns.barplot(unique, counts)\n",
    "plt.title(\"Distribution of Target Variable\")"
   ]
  },
  {
   "cell_type": "code",
   "execution_count": 37,
   "metadata": {},
   "outputs": [
    {
     "name": "stdout",
     "output_type": "stream",
     "text": [
      "     0    1      2    3    4       5     6      7       8    9    10   11  \\\n",
      "0  56.0  1.0  999.0  0.0  1.1  93.994 -36.4  4.857  5191.0  3.0  1.0  0.0   \n",
      "1  57.0  1.0  999.0  0.0  1.1  93.994 -36.4  4.857  5191.0  7.0  1.0  3.0   \n",
      "2  37.0  1.0  999.0  0.0  1.1  93.994 -36.4  4.857  5191.0  7.0  1.0  3.0   \n",
      "3  40.0  1.0  999.0  0.0  1.1  93.994 -36.4  4.857  5191.0  0.0  1.0  1.0   \n",
      "4  56.0  1.0  999.0  0.0  1.1  93.994 -36.4  4.857  5191.0  7.0  1.0  3.0   \n",
      "\n",
      "    12   13   14   15   16   17  \n",
      "0  0.0  0.0  1.0  6.0  1.0  1.0  \n",
      "1  0.0  0.0  1.0  6.0  1.0  1.0  \n",
      "2  1.0  0.0  1.0  6.0  1.0  1.0  \n",
      "3  0.0  0.0  1.0  6.0  1.0  1.0  \n",
      "4  0.0  1.0  1.0  6.0  1.0  1.0  \n",
      "    0\n",
      "0  no\n",
      "1  no\n",
      "2  no\n",
      "3  no\n",
      "4  no\n"
     ]
    }
   ],
   "source": [
    "X_balance = pd.DataFrame(X_balance)\n",
    "y_balance = pd.DataFrame(y_balance)\n",
    "print(X_balance.head())\n",
    "print(y_balance.head())"
   ]
  },
  {
   "cell_type": "code",
   "execution_count": 40,
   "metadata": {},
   "outputs": [],
   "source": [
    "#X_balance.to_csv(\"/Users/baixiao/Desktop/X_balance.csv\")"
   ]
  },
  {
   "cell_type": "code",
   "execution_count": 41,
   "metadata": {},
   "outputs": [],
   "source": [
    "#y_balance.to_csv(\"/Users/baixiao/Desktop/y_balance.csv\")"
   ]
  },
  {
   "cell_type": "markdown",
   "metadata": {},
   "source": [
    "create candidate new variables possible for later use in model building:<br>\n",
    "- create dummy variables<br>\n",
    "\n",
    "potential transformation to try (later):\n",
    "- logging<br>\n",
    "- square root<br>\n",
    "- cube root<br>\n",
    "..."
   ]
  },
  {
   "cell_type": "code",
   "execution_count": 42,
   "metadata": {},
   "outputs": [
    {
     "name": "stdout",
     "output_type": "stream",
     "text": [
      "(67974, 18)\n",
      "(67974, 1)\n",
      "   age  campaign  pdays  previous  emp.var.rate  cons.price.idx  \\\n",
      "0   56         1    999         0           1.1          93.994   \n",
      "1   57         1    999         0           1.1          93.994   \n",
      "2   37         1    999         0           1.1          93.994   \n",
      "3   40         1    999         0           1.1          93.994   \n",
      "4   56         1    999         0           1.1          93.994   \n",
      "\n",
      "   cons.conf.idx  euribor3m  nr.employed  job_encoded  marital_encoded  \\\n",
      "0          -36.4      4.857       5191.0            3                1   \n",
      "1          -36.4      4.857       5191.0            7                1   \n",
      "2          -36.4      4.857       5191.0            7                1   \n",
      "3          -36.4      4.857       5191.0            0                1   \n",
      "4          -36.4      4.857       5191.0            7                1   \n",
      "\n",
      "   education_encoded  housing_encoded  loan_encoded  contact_encoded  \\\n",
      "0                  0                0             0                1   \n",
      "1                  3                0             0                1   \n",
      "2                  3                1             0                1   \n",
      "3                  1                0             0                1   \n",
      "4                  3                0             1                1   \n",
      "\n",
      "   month_encoded  dayofweek_encoded  poutcome_encoded  \n",
      "0              6                  1                 1  \n",
      "1              6                  1                 1  \n",
      "2              6                  1                 1  \n",
      "3              6                  1                 1  \n",
      "4              6                  1                 1  \n",
      "    y\n",
      "0  no\n",
      "1  no\n",
      "2  no\n",
      "3  no\n",
      "4  no\n"
     ]
    }
   ],
   "source": [
    "# X_balance = pd.read_csv(\"/Users/baixiao/Desktop/X_balance.csv\")\n",
    "# y_balance = pd.read_csv(\"/Users/baixiao/Desktop/y_balance.csv\")\n",
    "# print(X_balance.shape)\n",
    "# print(y_balance.shape)\n",
    "# print(X_balance.head())\n",
    "# print(y_balance.head())"
   ]
  },
  {
   "cell_type": "markdown",
   "metadata": {},
   "source": [
    "##### create dummy variables"
   ]
  },
  {
   "cell_type": "code",
   "execution_count": 43,
   "metadata": {},
   "outputs": [
    {
     "name": "stdout",
     "output_type": "stream",
     "text": [
      "Job dummies shape original: (67974, 11)\n",
      "\n",
      "\n",
      "Now job dummies shape: (67974, 10)\n",
      "   is_admin  is_bluecollar  is_entrepreneur  is_housemaid  is_management  \\\n",
      "0         0              0                0             1              0   \n",
      "1         0              0                0             0              0   \n",
      "2         0              0                0             0              0   \n",
      "3         1              0                0             0              0   \n",
      "4         0              0                0             0              0   \n",
      "\n",
      "   is_retired  is_selfemployed  is_services  is_student  is_technician  \n",
      "0           0                0            0           0              0  \n",
      "1           0                0            1           0              0  \n",
      "2           0                0            1           0              0  \n",
      "3           0                0            0           0              0  \n",
      "4           0                0            1           0              0  \n"
     ]
    }
   ],
   "source": [
    "job_dummies = pd.get_dummies(X_balance['job_encoded'])\n",
    "#print(\"Job dummies original:\")\n",
    "#print(job_dummies.head())\n",
    "print(\"Job dummies shape original:\", job_dummies.shape)\n",
    "print()\n",
    "\n",
    "#***drop dummy of one category out to avoid MULTICOLLINEARITY\n",
    "job_dummies = job_dummies.drop(job_dummies.columns[10], axis=1)\n",
    "#print(job_dummies.head())\n",
    "print(\"\\nNow job dummies shape:\", job_dummies.shape)\n",
    "#job_dummies = job_dummies.rename(columns={\"0\": \"is_admin\", \"1\":\"is_bluecollar\", \"2\":\"is_entrepreneur\", \"3\":\"is_housemaid\", \"4\":\"is_management\", \"5\":\"is_retired\", \"6\":\"is_selfemployed\", \"7\":\"is_services\", \"8\":\"is_student\", \"9\":\"is_technician\"}, inplace=True)\n",
    "job_dummies.columns = [\"is_admin\", \"is_bluecollar\", \"is_entrepreneur\", \"is_housemaid\", \"is_management\", \"is_retired\", \"is_selfemployed\", \"is_services\", \"is_student\", \"is_technician\"]\n",
    "print(job_dummies.head())"
   ]
  },
  {
   "cell_type": "code",
   "execution_count": 44,
   "metadata": {},
   "outputs": [
    {
     "name": "stdout",
     "output_type": "stream",
     "text": [
      "Marital dummies shape original: (67974, 3)\n",
      "\n",
      "\n",
      "Now marital dummies shape: (67974, 2)\n",
      "   is_divorced  is_married\n",
      "0            0           1\n",
      "1            0           1\n",
      "2            0           1\n",
      "3            0           1\n",
      "4            0           1\n"
     ]
    }
   ],
   "source": [
    "marital_dummies = pd.get_dummies(X_balance['marital_encoded'])\n",
    "print(\"Marital dummies shape original:\", marital_dummies.shape)\n",
    "print()\n",
    "\n",
    "#***drop dummy of one category out to avoid MULTICOLLINEARITY\n",
    "marital_dummies = marital_dummies.drop(marital_dummies.columns[2], axis=1)\n",
    "print(\"\\nNow marital dummies shape:\", marital_dummies.shape)\n",
    "marital_dummies.columns = [\"is_divorced\", \"is_married\"]\n",
    "print(marital_dummies.head())"
   ]
  },
  {
   "cell_type": "code",
   "execution_count": 45,
   "metadata": {},
   "outputs": [
    {
     "name": "stdout",
     "output_type": "stream",
     "text": [
      "Education dummies shape original: (67974, 7)\n",
      "\n",
      "\n",
      "Now education dummies shape: (67974, 6)\n",
      "   is_basic.4y  is_basic.6y  is_baisc.9y  is_high.school  is_illiterate  \\\n",
      "0            1            0            0               0              0   \n",
      "1            0            0            0               1              0   \n",
      "2            0            0            0               1              0   \n",
      "3            0            1            0               0              0   \n",
      "4            0            0            0               1              0   \n",
      "\n",
      "   is_professional.course  \n",
      "0                       0  \n",
      "1                       0  \n",
      "2                       0  \n",
      "3                       0  \n",
      "4                       0  \n"
     ]
    }
   ],
   "source": [
    "education_dummies = pd.get_dummies(X_balance['education_encoded'])\n",
    "print(\"Education dummies shape original:\", education_dummies.shape)\n",
    "print()\n",
    "\n",
    "#***drop dummy of one category out to avoid MULTICOLLINEARITY\n",
    "education_dummies = education_dummies.drop(education_dummies.columns[6], axis=1)\n",
    "print(\"\\nNow education dummies shape:\", education_dummies.shape)\n",
    "education_dummies.columns = [\"is_basic.4y\", \"is_basic.6y\", \"is_baisc.9y\", \"is_high.school\", \"is_illiterate\", \"is_professional.course\"]\n",
    "print(education_dummies.head())"
   ]
  },
  {
   "cell_type": "code",
   "execution_count": 46,
   "metadata": {},
   "outputs": [
    {
     "name": "stdout",
     "output_type": "stream",
     "text": [
      "0    0\n",
      "1    0\n",
      "2    1\n",
      "3    0\n",
      "4    0\n",
      "Name: is_housing, dtype: int64\n"
     ]
    }
   ],
   "source": [
    "#\"housing\" is binary already\n",
    "housing_dummies = X_balance['housing_encoded']\n",
    "housing_dummies = housing_dummies.rename(\"is_housing\")\n",
    "print(housing_dummies.head())"
   ]
  },
  {
   "cell_type": "code",
   "execution_count": 47,
   "metadata": {},
   "outputs": [
    {
     "name": "stdout",
     "output_type": "stream",
     "text": [
      "0    0\n",
      "1    0\n",
      "2    0\n",
      "3    0\n",
      "4    1\n",
      "Name: is_loan, dtype: int64\n"
     ]
    }
   ],
   "source": [
    "#\"loan\" is binary already\n",
    "loan_dummies = X_balance['loan_encoded']\n",
    "loan_dummies = loan_dummies.rename(\"is_loan\")\n",
    "print(loan_dummies.head())"
   ]
  },
  {
   "cell_type": "code",
   "execution_count": 48,
   "metadata": {},
   "outputs": [
    {
     "name": "stdout",
     "output_type": "stream",
     "text": [
      "0    1\n",
      "1    1\n",
      "2    1\n",
      "3    1\n",
      "4    1\n",
      "Name: is_telephone, dtype: int64\n"
     ]
    }
   ],
   "source": [
    "#\"contact\" is binary already also\n",
    "contact_dummies = X_balance['contact_encoded']\n",
    "contact_dummies = contact_dummies.rename(\"is_telephone\")\n",
    "print(contact_dummies.head())"
   ]
  },
  {
   "cell_type": "code",
   "execution_count": 49,
   "metadata": {},
   "outputs": [
    {
     "name": "stdout",
     "output_type": "stream",
     "text": [
      "Month dummies shape original: (67974, 10)\n",
      "\n",
      "\n",
      "Now month dummies shape: (67974, 9)\n",
      "   is_apr  is_aug  is_dec  is_jul  is_jun  is_mar  is_may  is_nov  is_oct\n",
      "0       0       0       0       0       0       0       1       0       0\n",
      "1       0       0       0       0       0       0       1       0       0\n",
      "2       0       0       0       0       0       0       1       0       0\n",
      "3       0       0       0       0       0       0       1       0       0\n",
      "4       0       0       0       0       0       0       1       0       0\n"
     ]
    }
   ],
   "source": [
    "month_dummies = pd.get_dummies(X_balance['month_encoded'])\n",
    "print(\"Month dummies shape original:\", month_dummies.shape)\n",
    "print()\n",
    "\n",
    "#***drop dummy of one category out to avoid MULTICOLLINEARITY\n",
    "month_dummies = month_dummies.drop(month_dummies.columns[9], axis=1)\n",
    "print(\"\\nNow month dummies shape:\", month_dummies.shape)\n",
    "month_dummies.columns = [\"is_apr\", \"is_aug\", \"is_dec\", \"is_jul\", \"is_jun\", \"is_mar\", \"is_may\", \"is_nov\", \"is_oct\"]\n",
    "print(month_dummies.head())"
   ]
  },
  {
   "cell_type": "code",
   "execution_count": 50,
   "metadata": {
    "scrolled": true
   },
   "outputs": [
    {
     "name": "stdout",
     "output_type": "stream",
     "text": [
      "dayofweek dummies shape original: (67974, 5)\n",
      "\n",
      "\n",
      "Now dayofweek dummies shape: (67974, 4)\n",
      "   is_fri  is_mon  is_thu  is_tue\n",
      "0       0       1       0       0\n",
      "1       0       1       0       0\n",
      "2       0       1       0       0\n",
      "3       0       1       0       0\n",
      "4       0       1       0       0\n"
     ]
    }
   ],
   "source": [
    "dayofweek_dummies = pd.get_dummies(X_balance['dayofweek_encoded'])\n",
    "print(\"dayofweek dummies shape original:\", dayofweek_dummies.shape)\n",
    "print()\n",
    "\n",
    "#***drop dummy of one category out to avoid MULTICOLLINEARITY\n",
    "dayofweek_dummies = dayofweek_dummies.drop(dayofweek_dummies.columns[4], axis=1)\n",
    "print(\"\\nNow dayofweek dummies shape:\", dayofweek_dummies.shape)\n",
    "dayofweek_dummies.columns = [\"is_fri\", \"is_mon\", \"is_thu\", \"is_tue\"]\n",
    "print(dayofweek_dummies.head())"
   ]
  },
  {
   "cell_type": "code",
   "execution_count": 51,
   "metadata": {
    "scrolled": false
   },
   "outputs": [
    {
     "name": "stdout",
     "output_type": "stream",
     "text": [
      "poutcome dummies shape original: (67974, 3)\n",
      "\n",
      "\n",
      "Now poutcome dummies shape: (67974, 2)\n",
      "   is_failure  is_nonexistent\n",
      "0           0               1\n",
      "1           0               1\n",
      "2           0               1\n",
      "3           0               1\n",
      "4           0               1\n"
     ]
    }
   ],
   "source": [
    "poutcome_dummies = pd.get_dummies(X_balance['poutcome_encoded'])\n",
    "print(\"poutcome dummies shape original:\", poutcome_dummies.shape)\n",
    "print()\n",
    "\n",
    "#***drop dummy of one category out to avoid MULTICOLLINEARITY\n",
    "poutcome_dummies = poutcome_dummies.drop(poutcome_dummies.columns[2], axis=1)\n",
    "print(\"\\nNow poutcome dummies shape:\", poutcome_dummies.shape)\n",
    "poutcome_dummies.columns = [\"is_failure\", \"is_nonexistent\"]\n",
    "print(poutcome_dummies.head())"
   ]
  },
  {
   "cell_type": "code",
   "execution_count": 52,
   "metadata": {},
   "outputs": [],
   "source": [
    "#X_balance.dtypes"
   ]
  },
  {
   "cell_type": "code",
   "execution_count": 53,
   "metadata": {},
   "outputs": [
    {
     "name": "stdout",
     "output_type": "stream",
     "text": [
      "(67974, 54)\n"
     ]
    },
    {
     "data": {
      "text/html": [
       "<div>\n",
       "<style scoped>\n",
       "    .dataframe tbody tr th:only-of-type {\n",
       "        vertical-align: middle;\n",
       "    }\n",
       "\n",
       "    .dataframe tbody tr th {\n",
       "        vertical-align: top;\n",
       "    }\n",
       "\n",
       "    .dataframe thead th {\n",
       "        text-align: right;\n",
       "    }\n",
       "</style>\n",
       "<table border=\"1\" class=\"dataframe\">\n",
       "  <thead>\n",
       "    <tr style=\"text-align: right;\">\n",
       "      <th></th>\n",
       "      <th>age</th>\n",
       "      <th>campaign</th>\n",
       "      <th>pdays</th>\n",
       "      <th>previous</th>\n",
       "      <th>emp.var.rate</th>\n",
       "      <th>cons.price.idx</th>\n",
       "      <th>cons.conf.idx</th>\n",
       "      <th>euribor3m</th>\n",
       "      <th>nr.employed</th>\n",
       "      <th>job_encoded</th>\n",
       "      <th>...</th>\n",
       "      <th>is_mar</th>\n",
       "      <th>is_may</th>\n",
       "      <th>is_nov</th>\n",
       "      <th>is_oct</th>\n",
       "      <th>is_fri</th>\n",
       "      <th>is_mon</th>\n",
       "      <th>is_thu</th>\n",
       "      <th>is_tue</th>\n",
       "      <th>is_failure</th>\n",
       "      <th>is_nonexistent</th>\n",
       "    </tr>\n",
       "  </thead>\n",
       "  <tbody>\n",
       "    <tr>\n",
       "      <th>0</th>\n",
       "      <td>56</td>\n",
       "      <td>1</td>\n",
       "      <td>999</td>\n",
       "      <td>0</td>\n",
       "      <td>1.1</td>\n",
       "      <td>93.994</td>\n",
       "      <td>-36.4</td>\n",
       "      <td>4.857</td>\n",
       "      <td>5191.0</td>\n",
       "      <td>3</td>\n",
       "      <td>...</td>\n",
       "      <td>0</td>\n",
       "      <td>1</td>\n",
       "      <td>0</td>\n",
       "      <td>0</td>\n",
       "      <td>0</td>\n",
       "      <td>1</td>\n",
       "      <td>0</td>\n",
       "      <td>0</td>\n",
       "      <td>0</td>\n",
       "      <td>1</td>\n",
       "    </tr>\n",
       "    <tr>\n",
       "      <th>1</th>\n",
       "      <td>57</td>\n",
       "      <td>1</td>\n",
       "      <td>999</td>\n",
       "      <td>0</td>\n",
       "      <td>1.1</td>\n",
       "      <td>93.994</td>\n",
       "      <td>-36.4</td>\n",
       "      <td>4.857</td>\n",
       "      <td>5191.0</td>\n",
       "      <td>7</td>\n",
       "      <td>...</td>\n",
       "      <td>0</td>\n",
       "      <td>1</td>\n",
       "      <td>0</td>\n",
       "      <td>0</td>\n",
       "      <td>0</td>\n",
       "      <td>1</td>\n",
       "      <td>0</td>\n",
       "      <td>0</td>\n",
       "      <td>0</td>\n",
       "      <td>1</td>\n",
       "    </tr>\n",
       "    <tr>\n",
       "      <th>2</th>\n",
       "      <td>37</td>\n",
       "      <td>1</td>\n",
       "      <td>999</td>\n",
       "      <td>0</td>\n",
       "      <td>1.1</td>\n",
       "      <td>93.994</td>\n",
       "      <td>-36.4</td>\n",
       "      <td>4.857</td>\n",
       "      <td>5191.0</td>\n",
       "      <td>7</td>\n",
       "      <td>...</td>\n",
       "      <td>0</td>\n",
       "      <td>1</td>\n",
       "      <td>0</td>\n",
       "      <td>0</td>\n",
       "      <td>0</td>\n",
       "      <td>1</td>\n",
       "      <td>0</td>\n",
       "      <td>0</td>\n",
       "      <td>0</td>\n",
       "      <td>1</td>\n",
       "    </tr>\n",
       "    <tr>\n",
       "      <th>3</th>\n",
       "      <td>40</td>\n",
       "      <td>1</td>\n",
       "      <td>999</td>\n",
       "      <td>0</td>\n",
       "      <td>1.1</td>\n",
       "      <td>93.994</td>\n",
       "      <td>-36.4</td>\n",
       "      <td>4.857</td>\n",
       "      <td>5191.0</td>\n",
       "      <td>0</td>\n",
       "      <td>...</td>\n",
       "      <td>0</td>\n",
       "      <td>1</td>\n",
       "      <td>0</td>\n",
       "      <td>0</td>\n",
       "      <td>0</td>\n",
       "      <td>1</td>\n",
       "      <td>0</td>\n",
       "      <td>0</td>\n",
       "      <td>0</td>\n",
       "      <td>1</td>\n",
       "    </tr>\n",
       "    <tr>\n",
       "      <th>4</th>\n",
       "      <td>56</td>\n",
       "      <td>1</td>\n",
       "      <td>999</td>\n",
       "      <td>0</td>\n",
       "      <td>1.1</td>\n",
       "      <td>93.994</td>\n",
       "      <td>-36.4</td>\n",
       "      <td>4.857</td>\n",
       "      <td>5191.0</td>\n",
       "      <td>7</td>\n",
       "      <td>...</td>\n",
       "      <td>0</td>\n",
       "      <td>1</td>\n",
       "      <td>0</td>\n",
       "      <td>0</td>\n",
       "      <td>0</td>\n",
       "      <td>1</td>\n",
       "      <td>0</td>\n",
       "      <td>0</td>\n",
       "      <td>0</td>\n",
       "      <td>1</td>\n",
       "    </tr>\n",
       "  </tbody>\n",
       "</table>\n",
       "<p>5 rows × 54 columns</p>\n",
       "</div>"
      ],
      "text/plain": [
       "   age  campaign  pdays  previous  emp.var.rate  cons.price.idx  \\\n",
       "0   56         1    999         0           1.1          93.994   \n",
       "1   57         1    999         0           1.1          93.994   \n",
       "2   37         1    999         0           1.1          93.994   \n",
       "3   40         1    999         0           1.1          93.994   \n",
       "4   56         1    999         0           1.1          93.994   \n",
       "\n",
       "   cons.conf.idx  euribor3m  nr.employed  job_encoded  ...  is_mar  is_may  \\\n",
       "0          -36.4      4.857       5191.0            3  ...       0       1   \n",
       "1          -36.4      4.857       5191.0            7  ...       0       1   \n",
       "2          -36.4      4.857       5191.0            7  ...       0       1   \n",
       "3          -36.4      4.857       5191.0            0  ...       0       1   \n",
       "4          -36.4      4.857       5191.0            7  ...       0       1   \n",
       "\n",
       "   is_nov  is_oct  is_fri  is_mon  is_thu  is_tue  is_failure  is_nonexistent  \n",
       "0       0       0       0       1       0       0           0               1  \n",
       "1       0       0       0       1       0       0           0               1  \n",
       "2       0       0       0       1       0       0           0               1  \n",
       "3       0       0       0       1       0       0           0               1  \n",
       "4       0       0       0       1       0       0           0               1  \n",
       "\n",
       "[5 rows x 54 columns]"
      ]
     },
     "execution_count": 53,
     "metadata": {},
     "output_type": "execute_result"
    }
   ],
   "source": [
    "#concatenate all the columns of dummy variables with the original X_balance data\n",
    "X_dummies = pd.concat([X_balance, job_dummies, marital_dummies, education_dummies, housing_dummies, loan_dummies, contact_dummies, month_dummies, dayofweek_dummies, poutcome_dummies], axis=1)\n",
    "print(X_dummies.shape)\n",
    "X_dummies.head()"
   ]
  },
  {
   "cell_type": "code",
   "execution_count": 54,
   "metadata": {},
   "outputs": [
    {
     "data": {
      "text/plain": [
       "Index(['age', 'campaign', 'pdays', 'previous', 'emp.var.rate',\n",
       "       'cons.price.idx', 'cons.conf.idx', 'euribor3m', 'nr.employed',\n",
       "       'job_encoded', 'marital_encoded', 'education_encoded',\n",
       "       'housing_encoded', 'loan_encoded', 'contact_encoded', 'month_encoded',\n",
       "       'dayofweek_encoded', 'poutcome_encoded', 'is_admin', 'is_bluecollar',\n",
       "       'is_entrepreneur', 'is_housemaid', 'is_management', 'is_retired',\n",
       "       'is_selfemployed', 'is_services', 'is_student', 'is_technician',\n",
       "       'is_divorced', 'is_married', 'is_basic.4y', 'is_basic.6y',\n",
       "       'is_baisc.9y', 'is_high.school', 'is_illiterate',\n",
       "       'is_professional.course', 'is_housing', 'is_loan', 'is_telephone',\n",
       "       'is_apr', 'is_aug', 'is_dec', 'is_jul', 'is_jun', 'is_mar', 'is_may',\n",
       "       'is_nov', 'is_oct', 'is_fri', 'is_mon', 'is_thu', 'is_tue',\n",
       "       'is_failure', 'is_nonexistent'],\n",
       "      dtype='object')"
      ]
     },
     "execution_count": 54,
     "metadata": {},
     "output_type": "execute_result"
    }
   ],
   "source": [
    "X_dummies.columns"
   ]
  },
  {
   "cell_type": "code",
   "execution_count": 55,
   "metadata": {},
   "outputs": [
    {
     "data": {
      "text/plain": [
       "(67974, 52)"
      ]
     },
     "execution_count": 55,
     "metadata": {},
     "output_type": "execute_result"
    }
   ],
   "source": [
    "#drop the original \"housing_encoded\", \"loan_encoded\" in X_dummies\n",
    "X_dummies = X_dummies.drop(['housing_encoded', 'loan_encoded'], axis=1)\n",
    "X_dummies.shape\n",
    "#X_dummies.head()"
   ]
  },
  {
   "cell_type": "code",
   "execution_count": 56,
   "metadata": {},
   "outputs": [
    {
     "data": {
      "text/html": [
       "<div>\n",
       "<style scoped>\n",
       "    .dataframe tbody tr th:only-of-type {\n",
       "        vertical-align: middle;\n",
       "    }\n",
       "\n",
       "    .dataframe tbody tr th {\n",
       "        vertical-align: top;\n",
       "    }\n",
       "\n",
       "    .dataframe thead th {\n",
       "        text-align: right;\n",
       "    }\n",
       "</style>\n",
       "<table border=\"1\" class=\"dataframe\">\n",
       "  <thead>\n",
       "    <tr style=\"text-align: right;\">\n",
       "      <th></th>\n",
       "      <th>age</th>\n",
       "      <th>campaign</th>\n",
       "      <th>pdays</th>\n",
       "      <th>previous</th>\n",
       "      <th>emp.var.rate</th>\n",
       "      <th>cons.price.idx</th>\n",
       "      <th>cons.conf.idx</th>\n",
       "      <th>euribor3m</th>\n",
       "      <th>nr.employed</th>\n",
       "      <th>job_encoded</th>\n",
       "      <th>...</th>\n",
       "      <th>is_mar</th>\n",
       "      <th>is_may</th>\n",
       "      <th>is_nov</th>\n",
       "      <th>is_oct</th>\n",
       "      <th>is_fri</th>\n",
       "      <th>is_mon</th>\n",
       "      <th>is_thu</th>\n",
       "      <th>is_tue</th>\n",
       "      <th>is_failure</th>\n",
       "      <th>is_nonexistent</th>\n",
       "    </tr>\n",
       "  </thead>\n",
       "  <tbody>\n",
       "    <tr>\n",
       "      <th>0</th>\n",
       "      <td>56</td>\n",
       "      <td>1</td>\n",
       "      <td>-1</td>\n",
       "      <td>0</td>\n",
       "      <td>1.1</td>\n",
       "      <td>93.994</td>\n",
       "      <td>-36.4</td>\n",
       "      <td>4.857</td>\n",
       "      <td>5191.0</td>\n",
       "      <td>3</td>\n",
       "      <td>...</td>\n",
       "      <td>0</td>\n",
       "      <td>1</td>\n",
       "      <td>0</td>\n",
       "      <td>0</td>\n",
       "      <td>0</td>\n",
       "      <td>1</td>\n",
       "      <td>0</td>\n",
       "      <td>0</td>\n",
       "      <td>0</td>\n",
       "      <td>1</td>\n",
       "    </tr>\n",
       "    <tr>\n",
       "      <th>1</th>\n",
       "      <td>57</td>\n",
       "      <td>1</td>\n",
       "      <td>-1</td>\n",
       "      <td>0</td>\n",
       "      <td>1.1</td>\n",
       "      <td>93.994</td>\n",
       "      <td>-36.4</td>\n",
       "      <td>4.857</td>\n",
       "      <td>5191.0</td>\n",
       "      <td>7</td>\n",
       "      <td>...</td>\n",
       "      <td>0</td>\n",
       "      <td>1</td>\n",
       "      <td>0</td>\n",
       "      <td>0</td>\n",
       "      <td>0</td>\n",
       "      <td>1</td>\n",
       "      <td>0</td>\n",
       "      <td>0</td>\n",
       "      <td>0</td>\n",
       "      <td>1</td>\n",
       "    </tr>\n",
       "    <tr>\n",
       "      <th>2</th>\n",
       "      <td>37</td>\n",
       "      <td>1</td>\n",
       "      <td>-1</td>\n",
       "      <td>0</td>\n",
       "      <td>1.1</td>\n",
       "      <td>93.994</td>\n",
       "      <td>-36.4</td>\n",
       "      <td>4.857</td>\n",
       "      <td>5191.0</td>\n",
       "      <td>7</td>\n",
       "      <td>...</td>\n",
       "      <td>0</td>\n",
       "      <td>1</td>\n",
       "      <td>0</td>\n",
       "      <td>0</td>\n",
       "      <td>0</td>\n",
       "      <td>1</td>\n",
       "      <td>0</td>\n",
       "      <td>0</td>\n",
       "      <td>0</td>\n",
       "      <td>1</td>\n",
       "    </tr>\n",
       "    <tr>\n",
       "      <th>3</th>\n",
       "      <td>40</td>\n",
       "      <td>1</td>\n",
       "      <td>-1</td>\n",
       "      <td>0</td>\n",
       "      <td>1.1</td>\n",
       "      <td>93.994</td>\n",
       "      <td>-36.4</td>\n",
       "      <td>4.857</td>\n",
       "      <td>5191.0</td>\n",
       "      <td>0</td>\n",
       "      <td>...</td>\n",
       "      <td>0</td>\n",
       "      <td>1</td>\n",
       "      <td>0</td>\n",
       "      <td>0</td>\n",
       "      <td>0</td>\n",
       "      <td>1</td>\n",
       "      <td>0</td>\n",
       "      <td>0</td>\n",
       "      <td>0</td>\n",
       "      <td>1</td>\n",
       "    </tr>\n",
       "    <tr>\n",
       "      <th>4</th>\n",
       "      <td>56</td>\n",
       "      <td>1</td>\n",
       "      <td>-1</td>\n",
       "      <td>0</td>\n",
       "      <td>1.1</td>\n",
       "      <td>93.994</td>\n",
       "      <td>-36.4</td>\n",
       "      <td>4.857</td>\n",
       "      <td>5191.0</td>\n",
       "      <td>7</td>\n",
       "      <td>...</td>\n",
       "      <td>0</td>\n",
       "      <td>1</td>\n",
       "      <td>0</td>\n",
       "      <td>0</td>\n",
       "      <td>0</td>\n",
       "      <td>1</td>\n",
       "      <td>0</td>\n",
       "      <td>0</td>\n",
       "      <td>0</td>\n",
       "      <td>1</td>\n",
       "    </tr>\n",
       "  </tbody>\n",
       "</table>\n",
       "<p>5 rows × 52 columns</p>\n",
       "</div>"
      ],
      "text/plain": [
       "   age  campaign  pdays  previous  emp.var.rate  cons.price.idx  \\\n",
       "0   56         1     -1         0           1.1          93.994   \n",
       "1   57         1     -1         0           1.1          93.994   \n",
       "2   37         1     -1         0           1.1          93.994   \n",
       "3   40         1     -1         0           1.1          93.994   \n",
       "4   56         1     -1         0           1.1          93.994   \n",
       "\n",
       "   cons.conf.idx  euribor3m  nr.employed  job_encoded  ...  is_mar  is_may  \\\n",
       "0          -36.4      4.857       5191.0            3  ...       0       1   \n",
       "1          -36.4      4.857       5191.0            7  ...       0       1   \n",
       "2          -36.4      4.857       5191.0            7  ...       0       1   \n",
       "3          -36.4      4.857       5191.0            0  ...       0       1   \n",
       "4          -36.4      4.857       5191.0            7  ...       0       1   \n",
       "\n",
       "   is_nov  is_oct  is_fri  is_mon  is_thu  is_tue  is_failure  is_nonexistent  \n",
       "0       0       0       0       1       0       0           0               1  \n",
       "1       0       0       0       1       0       0           0               1  \n",
       "2       0       0       0       1       0       0           0               1  \n",
       "3       0       0       0       1       0       0           0               1  \n",
       "4       0       0       0       1       0       0           0               1  \n",
       "\n",
       "[5 rows x 52 columns]"
      ]
     },
     "execution_count": 56,
     "metadata": {},
     "output_type": "execute_result"
    }
   ],
   "source": [
    "#change \"999\" in 'pdays' into \"-1\" (avoid unnecessary skewness while remaining the same meaning)\n",
    "X_dummies.loc[X_dummies['pdays']==999, 'pdays'] = -1\n",
    "X_dummies.head()"
   ]
  },
  {
   "cell_type": "code",
   "execution_count": 57,
   "metadata": {},
   "outputs": [],
   "source": [
    "X_dummies.to_csv(\"/Users/baixiao/Desktop/X_dummies.csv\")"
   ]
  },
  {
   "cell_type": "code",
   "execution_count": 5,
   "metadata": {},
   "outputs": [],
   "source": [
    "import numpy as np\n",
    "import pandas as pd\n",
    "import matplotlib.pyplot as plt"
   ]
  },
  {
   "cell_type": "code",
   "execution_count": 23,
   "metadata": {
    "scrolled": true
   },
   "outputs": [
    {
     "data": {
      "text/html": [
       "<div>\n",
       "<style scoped>\n",
       "    .dataframe tbody tr th:only-of-type {\n",
       "        vertical-align: middle;\n",
       "    }\n",
       "\n",
       "    .dataframe tbody tr th {\n",
       "        vertical-align: top;\n",
       "    }\n",
       "\n",
       "    .dataframe thead th {\n",
       "        text-align: right;\n",
       "    }\n",
       "</style>\n",
       "<table border=\"1\" class=\"dataframe\">\n",
       "  <thead>\n",
       "    <tr style=\"text-align: right;\">\n",
       "      <th></th>\n",
       "      <th>age</th>\n",
       "      <th>campaign</th>\n",
       "      <th>pdays</th>\n",
       "      <th>previous</th>\n",
       "      <th>emp.var.rate</th>\n",
       "      <th>cons.price.idx</th>\n",
       "      <th>cons.conf.idx</th>\n",
       "      <th>euribor3m</th>\n",
       "      <th>nr.employed</th>\n",
       "      <th>job_encoded</th>\n",
       "      <th>...</th>\n",
       "      <th>is_mar</th>\n",
       "      <th>is_may</th>\n",
       "      <th>is_nov</th>\n",
       "      <th>is_oct</th>\n",
       "      <th>is_fri</th>\n",
       "      <th>is_mon</th>\n",
       "      <th>is_thu</th>\n",
       "      <th>is_tue</th>\n",
       "      <th>is_failure</th>\n",
       "      <th>is_nonexistent</th>\n",
       "    </tr>\n",
       "  </thead>\n",
       "  <tbody>\n",
       "    <tr>\n",
       "      <th>0</th>\n",
       "      <td>56</td>\n",
       "      <td>1</td>\n",
       "      <td>-1</td>\n",
       "      <td>0</td>\n",
       "      <td>1.1</td>\n",
       "      <td>93.994</td>\n",
       "      <td>-36.4</td>\n",
       "      <td>4.857</td>\n",
       "      <td>5191.0</td>\n",
       "      <td>3</td>\n",
       "      <td>...</td>\n",
       "      <td>0</td>\n",
       "      <td>1</td>\n",
       "      <td>0</td>\n",
       "      <td>0</td>\n",
       "      <td>0</td>\n",
       "      <td>1</td>\n",
       "      <td>0</td>\n",
       "      <td>0</td>\n",
       "      <td>0</td>\n",
       "      <td>1</td>\n",
       "    </tr>\n",
       "    <tr>\n",
       "      <th>1</th>\n",
       "      <td>57</td>\n",
       "      <td>1</td>\n",
       "      <td>-1</td>\n",
       "      <td>0</td>\n",
       "      <td>1.1</td>\n",
       "      <td>93.994</td>\n",
       "      <td>-36.4</td>\n",
       "      <td>4.857</td>\n",
       "      <td>5191.0</td>\n",
       "      <td>7</td>\n",
       "      <td>...</td>\n",
       "      <td>0</td>\n",
       "      <td>1</td>\n",
       "      <td>0</td>\n",
       "      <td>0</td>\n",
       "      <td>0</td>\n",
       "      <td>1</td>\n",
       "      <td>0</td>\n",
       "      <td>0</td>\n",
       "      <td>0</td>\n",
       "      <td>1</td>\n",
       "    </tr>\n",
       "    <tr>\n",
       "      <th>2</th>\n",
       "      <td>37</td>\n",
       "      <td>1</td>\n",
       "      <td>-1</td>\n",
       "      <td>0</td>\n",
       "      <td>1.1</td>\n",
       "      <td>93.994</td>\n",
       "      <td>-36.4</td>\n",
       "      <td>4.857</td>\n",
       "      <td>5191.0</td>\n",
       "      <td>7</td>\n",
       "      <td>...</td>\n",
       "      <td>0</td>\n",
       "      <td>1</td>\n",
       "      <td>0</td>\n",
       "      <td>0</td>\n",
       "      <td>0</td>\n",
       "      <td>1</td>\n",
       "      <td>0</td>\n",
       "      <td>0</td>\n",
       "      <td>0</td>\n",
       "      <td>1</td>\n",
       "    </tr>\n",
       "    <tr>\n",
       "      <th>3</th>\n",
       "      <td>40</td>\n",
       "      <td>1</td>\n",
       "      <td>-1</td>\n",
       "      <td>0</td>\n",
       "      <td>1.1</td>\n",
       "      <td>93.994</td>\n",
       "      <td>-36.4</td>\n",
       "      <td>4.857</td>\n",
       "      <td>5191.0</td>\n",
       "      <td>0</td>\n",
       "      <td>...</td>\n",
       "      <td>0</td>\n",
       "      <td>1</td>\n",
       "      <td>0</td>\n",
       "      <td>0</td>\n",
       "      <td>0</td>\n",
       "      <td>1</td>\n",
       "      <td>0</td>\n",
       "      <td>0</td>\n",
       "      <td>0</td>\n",
       "      <td>1</td>\n",
       "    </tr>\n",
       "    <tr>\n",
       "      <th>4</th>\n",
       "      <td>56</td>\n",
       "      <td>1</td>\n",
       "      <td>-1</td>\n",
       "      <td>0</td>\n",
       "      <td>1.1</td>\n",
       "      <td>93.994</td>\n",
       "      <td>-36.4</td>\n",
       "      <td>4.857</td>\n",
       "      <td>5191.0</td>\n",
       "      <td>7</td>\n",
       "      <td>...</td>\n",
       "      <td>0</td>\n",
       "      <td>1</td>\n",
       "      <td>0</td>\n",
       "      <td>0</td>\n",
       "      <td>0</td>\n",
       "      <td>1</td>\n",
       "      <td>0</td>\n",
       "      <td>0</td>\n",
       "      <td>0</td>\n",
       "      <td>1</td>\n",
       "    </tr>\n",
       "  </tbody>\n",
       "</table>\n",
       "<p>5 rows × 52 columns</p>\n",
       "</div>"
      ],
      "text/plain": [
       "   age  campaign  pdays  previous  emp.var.rate  cons.price.idx  \\\n",
       "0   56         1     -1         0           1.1          93.994   \n",
       "1   57         1     -1         0           1.1          93.994   \n",
       "2   37         1     -1         0           1.1          93.994   \n",
       "3   40         1     -1         0           1.1          93.994   \n",
       "4   56         1     -1         0           1.1          93.994   \n",
       "\n",
       "   cons.conf.idx  euribor3m  nr.employed  job_encoded  ...  is_mar  is_may  \\\n",
       "0          -36.4      4.857       5191.0            3  ...       0       1   \n",
       "1          -36.4      4.857       5191.0            7  ...       0       1   \n",
       "2          -36.4      4.857       5191.0            7  ...       0       1   \n",
       "3          -36.4      4.857       5191.0            0  ...       0       1   \n",
       "4          -36.4      4.857       5191.0            7  ...       0       1   \n",
       "\n",
       "   is_nov  is_oct  is_fri  is_mon  is_thu  is_tue  is_failure  is_nonexistent  \n",
       "0       0       0       0       1       0       0           0               1  \n",
       "1       0       0       0       1       0       0           0               1  \n",
       "2       0       0       0       1       0       0           0               1  \n",
       "3       0       0       0       1       0       0           0               1  \n",
       "4       0       0       0       1       0       0           0               1  \n",
       "\n",
       "[5 rows x 52 columns]"
      ]
     },
     "execution_count": 23,
     "metadata": {},
     "output_type": "execute_result"
    }
   ],
   "source": [
    "X = pd.read_csv(\"/Users/baixiao/Desktop/X_dummies.csv\")\n",
    "X.head()"
   ]
  },
  {
   "cell_type": "code",
   "execution_count": null,
   "metadata": {},
   "outputs": [],
   "source": []
  },
  {
   "cell_type": "code",
   "execution_count": null,
   "metadata": {},
   "outputs": [],
   "source": []
  },
  {
   "cell_type": "code",
   "execution_count": null,
   "metadata": {},
   "outputs": [],
   "source": []
  }
 ],
 "metadata": {
  "kernelspec": {
   "display_name": "Python [conda env:root] *",
   "language": "python",
   "name": "conda-root-py"
  },
  "language_info": {
   "codemirror_mode": {
    "name": "ipython",
    "version": 3
   },
   "file_extension": ".py",
   "mimetype": "text/x-python",
   "name": "python",
   "nbconvert_exporter": "python",
   "pygments_lexer": "ipython3",
   "version": "3.7.6"
  }
 },
 "nbformat": 4,
 "nbformat_minor": 2
}
